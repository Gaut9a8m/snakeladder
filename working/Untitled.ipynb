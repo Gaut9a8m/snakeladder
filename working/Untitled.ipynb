{
 "cells": [
  {
   "cell_type": "code",
   "execution_count": 1,
   "id": "530aeece",
   "metadata": {},
   "outputs": [],
   "source": [
    "import pandas as pd\n",
    "import plotly.express as px"
   ]
  },
  {
   "cell_type": "code",
   "execution_count": 2,
   "id": "981477e9",
   "metadata": {},
   "outputs": [],
   "source": [
    "df = pd.read_csv(\n",
    "'manu_404.log',\n",
    "usecols=[0, 1,3,5, 6, 7, 8, 10, 11, 17],\n",
    "sep=r'\\s(?=(?:[^\"]*\"[^\"]*\")*[^\"]*$)(?![^\\[]*\\])',\n",
    "delimiter=None, engine='python',\n",
    "names=['Domain','IP','Time-Stamp','Response-Time','Host','Request','Status','Referer', 'User-Agent', 'X-IP']\n",
    ")"
   ]
  },
  {
   "cell_type": "code",
   "execution_count": null,
   "id": "e2ed150f",
   "metadata": {},
   "outputs": [],
   "source": []
  },
  {
   "cell_type": "code",
   "execution_count": 3,
   "id": "157124bd",
   "metadata": {},
   "outputs": [
    {
     "data": {
      "text/html": [
       "<div>\n",
       "<style scoped>\n",
       "    .dataframe tbody tr th:only-of-type {\n",
       "        vertical-align: middle;\n",
       "    }\n",
       "\n",
       "    .dataframe tbody tr th {\n",
       "        vertical-align: top;\n",
       "    }\n",
       "\n",
       "    .dataframe thead th {\n",
       "        text-align: right;\n",
       "    }\n",
       "</style>\n",
       "<table border=\"1\" class=\"dataframe\">\n",
       "  <thead>\n",
       "    <tr style=\"text-align: right;\">\n",
       "      <th></th>\n",
       "      <th>Domain</th>\n",
       "      <th>IP</th>\n",
       "      <th>Time-Stamp</th>\n",
       "      <th>Response-Time</th>\n",
       "      <th>Host</th>\n",
       "      <th>Request</th>\n",
       "      <th>Status</th>\n",
       "      <th>Referer</th>\n",
       "      <th>User-Agent</th>\n",
       "      <th>X-IP</th>\n",
       "    </tr>\n",
       "  </thead>\n",
       "  <tbody>\n",
       "    <tr>\n",
       "      <th>0</th>\n",
       "      <td>www.tradeindia.com</td>\n",
       "      <td>130.176.98.148</td>\n",
       "      <td>15/Feb/2022:00:01:52</td>\n",
       "      <td>--0.069/1644863512.854--</td>\n",
       "      <td>Host:\"www.tradeindia.com\"</td>\n",
       "      <td>\"GET /manufacturers/ARRAY-0x7f8caaa456a8-.html...</td>\n",
       "      <td>Status:404</td>\n",
       "      <td>\"-\"</td>\n",
       "      <td>\"Mozilla/5.0 (Linux; Android 6.0.1; Nexus 5X B...</td>\n",
       "      <td>66.249.64.146,</td>\n",
       "    </tr>\n",
       "    <tr>\n",
       "      <th>1</th>\n",
       "      <td>www.tradeindia.com</td>\n",
       "      <td>130.176.98.148</td>\n",
       "      <td>15/Feb/2022:00:02:01</td>\n",
       "      <td>--0.076/1644863521.715--</td>\n",
       "      <td>Host:\"www.tradeindia.com\"</td>\n",
       "      <td>\"GET /manufacturers/ARRAY-0x7f0ea351c498-.html...</td>\n",
       "      <td>Status:404</td>\n",
       "      <td>\"-\"</td>\n",
       "      <td>\"Mozilla/5.0 (Linux; Android 6.0.1; Nexus 5X B...</td>\n",
       "      <td>66.249.70.65,</td>\n",
       "    </tr>\n",
       "    <tr>\n",
       "      <th>2</th>\n",
       "      <td>www.tradeindia.com</td>\n",
       "      <td>130.176.179.45</td>\n",
       "      <td>15/Feb/2022:00:02:15</td>\n",
       "      <td>--0.288/1644863535.316--</td>\n",
       "      <td>Host:\"www.tradeindia.com\"</td>\n",
       "      <td>\"GET /manufacturers/ARRAY-0x7fcc8ed9eeb0-.html...</td>\n",
       "      <td>Status:404</td>\n",
       "      <td>\"-\"</td>\n",
       "      <td>\"Mozilla/5.0 (Linux; Android 6.0.1; Nexus 5X B...</td>\n",
       "      <td>66.249.64.152,</td>\n",
       "    </tr>\n",
       "    <tr>\n",
       "      <th>3</th>\n",
       "      <td>www.tradeindia.com</td>\n",
       "      <td>130.176.98.148</td>\n",
       "      <td>15/Feb/2022:00:02:20</td>\n",
       "      <td>--0.068/1644863540.348--</td>\n",
       "      <td>Host:\"www.tradeindia.com\"</td>\n",
       "      <td>\"GET /manufacturers/ARRAY-0x7fcc8da02b90-.html...</td>\n",
       "      <td>Status:404</td>\n",
       "      <td>\"-\"</td>\n",
       "      <td>\"Mozilla/5.0 (Linux; Android 6.0.1; Nexus 5X B...</td>\n",
       "      <td>66.249.64.122,</td>\n",
       "    </tr>\n",
       "    <tr>\n",
       "      <th>4</th>\n",
       "      <td>www.tradeindia.com</td>\n",
       "      <td>130.176.179.14</td>\n",
       "      <td>15/Feb/2022:00:02:24</td>\n",
       "      <td>--0.077/1644863544.727--</td>\n",
       "      <td>Host:\"www.tradeindia.com\"</td>\n",
       "      <td>\"GET /manufacturers/ARRAY-0x7fcc8f890658-.html...</td>\n",
       "      <td>Status:404</td>\n",
       "      <td>\"-\"</td>\n",
       "      <td>\"Mozilla/5.0 (Linux; Android 6.0.1; Nexus 5X B...</td>\n",
       "      <td>66.249.70.48,</td>\n",
       "    </tr>\n",
       "    <tr>\n",
       "      <th>...</th>\n",
       "      <td>...</td>\n",
       "      <td>...</td>\n",
       "      <td>...</td>\n",
       "      <td>...</td>\n",
       "      <td>...</td>\n",
       "      <td>...</td>\n",
       "      <td>...</td>\n",
       "      <td>...</td>\n",
       "      <td>...</td>\n",
       "      <td>...</td>\n",
       "    </tr>\n",
       "    <tr>\n",
       "      <th>8745</th>\n",
       "      <td>www.tradeindia.com</td>\n",
       "      <td>130.176.98.148</td>\n",
       "      <td>15/Feb/2022:23:59:42</td>\n",
       "      <td>--0.282/1644949782.905--</td>\n",
       "      <td>Host:\"www.tradeindia.com\"</td>\n",
       "      <td>\"GET /manufacturers/ARRAY-0x7f26d7876be8-.html...</td>\n",
       "      <td>Status:404</td>\n",
       "      <td>\"-\"</td>\n",
       "      <td>\"Mozilla/5.0 (Linux; Android 6.0.1; Nexus 5X B...</td>\n",
       "      <td>66.249.70.26,</td>\n",
       "    </tr>\n",
       "    <tr>\n",
       "      <th>8746</th>\n",
       "      <td>www.tradeindia.com</td>\n",
       "      <td>130.176.166.55</td>\n",
       "      <td>15/Feb/2022:23:59:43</td>\n",
       "      <td>--0.070/1644949783.349--</td>\n",
       "      <td>Host:\"www.tradeindia.com\"</td>\n",
       "      <td>\"GET /manufacturers/ARRAY-0x7f34850291a8-.html...</td>\n",
       "      <td>Status:404</td>\n",
       "      <td>\"-\"</td>\n",
       "      <td>\"Mozilla/5.0 (Linux; Android 6.0.1; Nexus 5X B...</td>\n",
       "      <td>66.249.70.4,</td>\n",
       "    </tr>\n",
       "    <tr>\n",
       "      <th>8747</th>\n",
       "      <td>www.tradeindia.com</td>\n",
       "      <td>64.252.151.145</td>\n",
       "      <td>15/Feb/2022:23:59:45</td>\n",
       "      <td>--0.078/1644949785.417--</td>\n",
       "      <td>Host:\"www.tradeindia.com\"</td>\n",
       "      <td>\"GET /manufacturers/ARRAY-0x7f3484ba5920-.html...</td>\n",
       "      <td>Status:404</td>\n",
       "      <td>\"-\"</td>\n",
       "      <td>\"Mozilla/5.0 (Linux; Android 6.0.1; Nexus 5X B...</td>\n",
       "      <td>66.249.64.11,</td>\n",
       "    </tr>\n",
       "    <tr>\n",
       "      <th>8748</th>\n",
       "      <td>www.tradeindia.com</td>\n",
       "      <td>130.176.179.14</td>\n",
       "      <td>15/Feb/2022:23:59:47</td>\n",
       "      <td>--0.072/1644949787.668--</td>\n",
       "      <td>Host:\"www.tradeindia.com\"</td>\n",
       "      <td>\"GET /manufacturers/ARRAY-0x7f26d4baa410-.html...</td>\n",
       "      <td>Status:404</td>\n",
       "      <td>\"-\"</td>\n",
       "      <td>\"Mozilla/5.0 (Linux; Android 6.0.1; Nexus 5X B...</td>\n",
       "      <td>66.249.64.50,</td>\n",
       "    </tr>\n",
       "    <tr>\n",
       "      <th>8749</th>\n",
       "      <td>www.tradeindia.com</td>\n",
       "      <td>130.176.179.14</td>\n",
       "      <td>15/Feb/2022:23:59:56</td>\n",
       "      <td>--0.087/1644949796.694--</td>\n",
       "      <td>Host:\"www.tradeindia.com\"</td>\n",
       "      <td>\"GET /manufacturers/ARRAY-0x7f0ea303b998-.html...</td>\n",
       "      <td>Status:404</td>\n",
       "      <td>\"-\"</td>\n",
       "      <td>\"Mozilla/5.0 (Linux; Android 6.0.1; Nexus 5X B...</td>\n",
       "      <td>66.249.64.120,</td>\n",
       "    </tr>\n",
       "  </tbody>\n",
       "</table>\n",
       "<p>8750 rows × 10 columns</p>\n",
       "</div>"
      ],
      "text/plain": [
       "                  Domain              IP            Time-Stamp  \\\n",
       "0     www.tradeindia.com  130.176.98.148  15/Feb/2022:00:01:52   \n",
       "1     www.tradeindia.com  130.176.98.148  15/Feb/2022:00:02:01   \n",
       "2     www.tradeindia.com  130.176.179.45  15/Feb/2022:00:02:15   \n",
       "3     www.tradeindia.com  130.176.98.148  15/Feb/2022:00:02:20   \n",
       "4     www.tradeindia.com  130.176.179.14  15/Feb/2022:00:02:24   \n",
       "...                  ...             ...                   ...   \n",
       "8745  www.tradeindia.com  130.176.98.148  15/Feb/2022:23:59:42   \n",
       "8746  www.tradeindia.com  130.176.166.55  15/Feb/2022:23:59:43   \n",
       "8747  www.tradeindia.com  64.252.151.145  15/Feb/2022:23:59:45   \n",
       "8748  www.tradeindia.com  130.176.179.14  15/Feb/2022:23:59:47   \n",
       "8749  www.tradeindia.com  130.176.179.14  15/Feb/2022:23:59:56   \n",
       "\n",
       "                 Response-Time                       Host  \\\n",
       "0     --0.069/1644863512.854--  Host:\"www.tradeindia.com\"   \n",
       "1     --0.076/1644863521.715--  Host:\"www.tradeindia.com\"   \n",
       "2     --0.288/1644863535.316--  Host:\"www.tradeindia.com\"   \n",
       "3     --0.068/1644863540.348--  Host:\"www.tradeindia.com\"   \n",
       "4     --0.077/1644863544.727--  Host:\"www.tradeindia.com\"   \n",
       "...                        ...                        ...   \n",
       "8745  --0.282/1644949782.905--  Host:\"www.tradeindia.com\"   \n",
       "8746  --0.070/1644949783.349--  Host:\"www.tradeindia.com\"   \n",
       "8747  --0.078/1644949785.417--  Host:\"www.tradeindia.com\"   \n",
       "8748  --0.072/1644949787.668--  Host:\"www.tradeindia.com\"   \n",
       "8749  --0.087/1644949796.694--  Host:\"www.tradeindia.com\"   \n",
       "\n",
       "                                                Request      Status Referer  \\\n",
       "0     \"GET /manufacturers/ARRAY-0x7f8caaa456a8-.html...  Status:404     \"-\"   \n",
       "1     \"GET /manufacturers/ARRAY-0x7f0ea351c498-.html...  Status:404     \"-\"   \n",
       "2     \"GET /manufacturers/ARRAY-0x7fcc8ed9eeb0-.html...  Status:404     \"-\"   \n",
       "3     \"GET /manufacturers/ARRAY-0x7fcc8da02b90-.html...  Status:404     \"-\"   \n",
       "4     \"GET /manufacturers/ARRAY-0x7fcc8f890658-.html...  Status:404     \"-\"   \n",
       "...                                                 ...         ...     ...   \n",
       "8745  \"GET /manufacturers/ARRAY-0x7f26d7876be8-.html...  Status:404     \"-\"   \n",
       "8746  \"GET /manufacturers/ARRAY-0x7f34850291a8-.html...  Status:404     \"-\"   \n",
       "8747  \"GET /manufacturers/ARRAY-0x7f3484ba5920-.html...  Status:404     \"-\"   \n",
       "8748  \"GET /manufacturers/ARRAY-0x7f26d4baa410-.html...  Status:404     \"-\"   \n",
       "8749  \"GET /manufacturers/ARRAY-0x7f0ea303b998-.html...  Status:404     \"-\"   \n",
       "\n",
       "                                             User-Agent            X-IP  \n",
       "0     \"Mozilla/5.0 (Linux; Android 6.0.1; Nexus 5X B...  66.249.64.146,  \n",
       "1     \"Mozilla/5.0 (Linux; Android 6.0.1; Nexus 5X B...   66.249.70.65,  \n",
       "2     \"Mozilla/5.0 (Linux; Android 6.0.1; Nexus 5X B...  66.249.64.152,  \n",
       "3     \"Mozilla/5.0 (Linux; Android 6.0.1; Nexus 5X B...  66.249.64.122,  \n",
       "4     \"Mozilla/5.0 (Linux; Android 6.0.1; Nexus 5X B...   66.249.70.48,  \n",
       "...                                                 ...             ...  \n",
       "8745  \"Mozilla/5.0 (Linux; Android 6.0.1; Nexus 5X B...   66.249.70.26,  \n",
       "8746  \"Mozilla/5.0 (Linux; Android 6.0.1; Nexus 5X B...    66.249.70.4,  \n",
       "8747  \"Mozilla/5.0 (Linux; Android 6.0.1; Nexus 5X B...   66.249.64.11,  \n",
       "8748  \"Mozilla/5.0 (Linux; Android 6.0.1; Nexus 5X B...   66.249.64.50,  \n",
       "8749  \"Mozilla/5.0 (Linux; Android 6.0.1; Nexus 5X B...  66.249.64.120,  \n",
       "\n",
       "[8750 rows x 10 columns]"
      ]
     },
     "execution_count": 3,
     "metadata": {},
     "output_type": "execute_result"
    }
   ],
   "source": [
    "df"
   ]
  },
  {
   "cell_type": "code",
   "execution_count": 17,
   "id": "47c852a0",
   "metadata": {},
   "outputs": [],
   "source": [
    "tmp_df = df[['Request','Host','User-Agent','X-IP', 'Referer']]\n",
    "bot_df = tmp_df.loc[tmp_df['User-Agent'].str.contains('bot')==True]\n",
    "google_bot_df = tmp_df.loc[tmp_df['User-Agent'].str.contains('GoogleBot', case=False)==True]\n",
    "bing_bot_df = tmp_df.loc[tmp_df['User-Agent'].str.contains('BingBot',case=False)==True]\n",
    "human_df = tmp_df.loc[tmp_df['User-Agent'].str.contains('bot')==False]\n"
   ]
  },
  {
   "cell_type": "code",
   "execution_count": 21,
   "id": "bf9f7a90",
   "metadata": {
    "scrolled": false
   },
   "outputs": [
    {
     "data": {
      "text/html": [
       "<div>\n",
       "<style scoped>\n",
       "    .dataframe tbody tr th:only-of-type {\n",
       "        vertical-align: middle;\n",
       "    }\n",
       "\n",
       "    .dataframe tbody tr th {\n",
       "        vertical-align: top;\n",
       "    }\n",
       "\n",
       "    .dataframe thead th {\n",
       "        text-align: right;\n",
       "    }\n",
       "</style>\n",
       "<table border=\"1\" class=\"dataframe\">\n",
       "  <thead>\n",
       "    <tr style=\"text-align: right;\">\n",
       "      <th></th>\n",
       "      <th>count</th>\n",
       "    </tr>\n",
       "    <tr>\n",
       "      <th>Request</th>\n",
       "      <th></th>\n",
       "    </tr>\n",
       "  </thead>\n",
       "  <tbody>\n",
       "    <tr>\n",
       "      <th>\"GET /manufacturers/tel:01143364336/ HTTP/1.1\"</th>\n",
       "      <td>20</td>\n",
       "    </tr>\n",
       "    <tr>\n",
       "      <th>\"GET /manufacturers/mailto:helpdesk@tradeindia.com/ HTTP/1.1\"</th>\n",
       "      <td>8</td>\n",
       "    </tr>\n",
       "    <tr>\n",
       "      <th>\"GET /manufacturers/repeating-linear-gradient(90deg,%20rgb(0,%200,%200)%200px,%20rgb(0,%200,%200)%2012px,%20rgba(0,%200,%200,%200)%200px,%20rgba(0,%200,%200,%200)%2021px)/ HTTP/1.1\"</th>\n",
       "      <td>3</td>\n",
       "    </tr>\n",
       "  </tbody>\n",
       "</table>\n",
       "</div>"
      ],
      "text/plain": [
       "                                                    count\n",
       "Request                                                  \n",
       "\"GET /manufacturers/tel:01143364336/ HTTP/1.1\"         20\n",
       "\"GET /manufacturers/mailto:helpdesk@tradeindia....      8\n",
       "\"GET /manufacturers/repeating-linear-gradient(9...      3"
      ]
     },
     "execution_count": 21,
     "metadata": {},
     "output_type": "execute_result"
    }
   ],
   "source": [
    "human_df.groupby(['X-IP'])['X-IP'].agg(count = 'count').sort_values('count',ascending=False).head(3)\n",
    "human_df.groupby(['Request'])['Request'].agg(count = 'count').sort_values('count',ascending=False).head(3)\n",
    "# .to_csv('human_404_IP_count.csv')\n",
    "# human_df.groupby(['Request'])['Request'].agg(count = 'count').sort_values('count',ascending=False).to_csv('human_404_URLs_count.csv')\n",
    "# .to_csv('human_404_urls_count.csv')\n",
    "# bing_bot_df.loc[bing_bot_df['Request'].str.contains('/seller/ARRAY-', case=False)==True]\n",
    "# google_bot_df.loc[googlebot_df['Request'].str.contains('/seller/ARRAY-', case=False)==True]\n",
    "# human_df.loc[human_df['Request'].str.contains('/seller/ARRAY-', case=False)==True]\n",
    "# human_df\n",
    "# bing_bot_df\n",
    "# human_df.groupby(['Request','X-IP'])['Request'].agg(count = 'count').sort_values('count',ascending=False).head(10)\n",
    "# human_df.groupby(['X-IP'])['Request'].agg(count = 'count').sort_values('count',ascending=False)\n",
    "# human_df.loc[human_df['X-IP'].str.contains('212.192.246.210,')].groupby('Referer')['Request'].agg(count = 'count').sort_values('count',ascending=False)"
   ]
  },
  {
   "cell_type": "code",
   "execution_count": 95,
   "id": "3a1379a6",
   "metadata": {},
   "outputs": [
    {
     "data": {
      "text/html": [
       "<div>\n",
       "<style scoped>\n",
       "    .dataframe tbody tr th:only-of-type {\n",
       "        vertical-align: middle;\n",
       "    }\n",
       "\n",
       "    .dataframe tbody tr th {\n",
       "        vertical-align: top;\n",
       "    }\n",
       "\n",
       "    .dataframe thead th {\n",
       "        text-align: right;\n",
       "    }\n",
       "</style>\n",
       "<table border=\"1\" class=\"dataframe\">\n",
       "  <thead>\n",
       "    <tr style=\"text-align: right;\">\n",
       "      <th></th>\n",
       "      <th>count</th>\n",
       "    </tr>\n",
       "    <tr>\n",
       "      <th>Request</th>\n",
       "      <th></th>\n",
       "    </tr>\n",
       "  </thead>\n",
       "  <tbody>\n",
       "    <tr>\n",
       "      <th>\"GET /Seller-6393522-Jiangsu-Tianma-Universal-Equpment-Co-Ltd/ HTTP/1.1\"</th>\n",
       "      <td>3</td>\n",
       "    </tr>\n",
       "    <tr>\n",
       "      <th>\"GET /Seller-25808726-THE-CORPORATE-BAG/ HTTP/1.1\"</th>\n",
       "      <td>2</td>\n",
       "    </tr>\n",
       "    <tr>\n",
       "      <th>\"GET /Seller-9980379-Nishank-Industries/epe-foam.html HTTP/1.1\"</th>\n",
       "      <td>2</td>\n",
       "    </tr>\n",
       "    <tr>\n",
       "      <th>\"GET /Seller-8918252-Elegant-International/ HTTP/1.1\"</th>\n",
       "      <td>2</td>\n",
       "    </tr>\n",
       "    <tr>\n",
       "      <th>\"GET /Seller-15505725-Ayush-Gupta/ HTTP/1.1\"</th>\n",
       "      <td>2</td>\n",
       "    </tr>\n",
       "    <tr>\n",
       "      <th>...</th>\n",
       "      <td>...</td>\n",
       "    </tr>\n",
       "    <tr>\n",
       "      <th>\"GET /Seller-2179040-Ennem-Sea-Foods/ HTTP/1.1\"</th>\n",
       "      <td>1</td>\n",
       "    </tr>\n",
       "    <tr>\n",
       "      <th>\"GET /Seller-21790116-Kamla-Timber-Products/ HTTP/1.1\"</th>\n",
       "      <td>1</td>\n",
       "    </tr>\n",
       "    <tr>\n",
       "      <th>\"GET /Seller-21788327-Paliwal-Farm/ HTTP/1.1\"</th>\n",
       "      <td>1</td>\n",
       "    </tr>\n",
       "    <tr>\n",
       "      <th>\"GET /Seller-2178277-I-MOUSTAKARIAS-CO-/ HTTP/1.1\"</th>\n",
       "      <td>1</td>\n",
       "    </tr>\n",
       "    <tr>\n",
       "      <th>\"GET /seller-9973088-shree-ganesh-enterprises/ HTTP/1.1\"</th>\n",
       "      <td>1</td>\n",
       "    </tr>\n",
       "  </tbody>\n",
       "</table>\n",
       "<p>5122 rows × 1 columns</p>\n",
       "</div>"
      ],
      "text/plain": [
       "                                                    count\n",
       "Request                                                  \n",
       "\"GET /Seller-6393522-Jiangsu-Tianma-Universal-E...      3\n",
       "\"GET /Seller-25808726-THE-CORPORATE-BAG/ HTTP/1.1\"      2\n",
       "\"GET /Seller-9980379-Nishank-Industries/epe-foa...      2\n",
       "\"GET /Seller-8918252-Elegant-International/ HTT...      2\n",
       "\"GET /Seller-15505725-Ayush-Gupta/ HTTP/1.1\"            2\n",
       "...                                                   ...\n",
       "\"GET /Seller-2179040-Ennem-Sea-Foods/ HTTP/1.1\"         1\n",
       "\"GET /Seller-21790116-Kamla-Timber-Products/ HT...      1\n",
       "\"GET /Seller-21788327-Paliwal-Farm/ HTTP/1.1\"           1\n",
       "\"GET /Seller-2178277-I-MOUSTAKARIAS-CO-/ HTTP/1.1\"      1\n",
       "\"GET /seller-9973088-shree-ganesh-enterprises/ ...      1\n",
       "\n",
       "[5122 rows x 1 columns]"
      ]
     },
     "execution_count": 95,
     "metadata": {},
     "output_type": "execute_result"
    }
   ],
   "source": [
    "bing_bot_df.groupby(['Request'])['Request'].agg(count = 'count').sort_values('count',ascending=False)\n",
    "# google_bot_df\n",
    "# bing_bot_df\n",
    "# human_df\n",
    "# .to_csv('bingbot_404_IP_count.csv')"
   ]
  },
  {
   "cell_type": "code",
   "execution_count": 40,
   "id": "7d51e824",
   "metadata": {},
   "outputs": [
    {
     "data": {
      "text/html": [
       "<div>\n",
       "<style scoped>\n",
       "    .dataframe tbody tr th:only-of-type {\n",
       "        vertical-align: middle;\n",
       "    }\n",
       "\n",
       "    .dataframe tbody tr th {\n",
       "        vertical-align: top;\n",
       "    }\n",
       "\n",
       "    .dataframe thead th {\n",
       "        text-align: right;\n",
       "    }\n",
       "</style>\n",
       "<table border=\"1\" class=\"dataframe\">\n",
       "  <thead>\n",
       "    <tr style=\"text-align: right;\">\n",
       "      <th></th>\n",
       "      <th>Request</th>\n",
       "      <th>Host</th>\n",
       "      <th>User-Agent</th>\n",
       "      <th>X-IP</th>\n",
       "      <th>Referer</th>\n",
       "    </tr>\n",
       "  </thead>\n",
       "  <tbody>\n",
       "    <tr>\n",
       "      <th>95</th>\n",
       "      <td>\"GET /manufacturers/aerosol-coatings.html HTTP...</td>\n",
       "      <td>Host:\"www.tradeindia.com\"</td>\n",
       "      <td>\"Mozilla/5.0 (Linux; Android 8.0; Pixel 2 Buil...</td>\n",
       "      <td>54.223.19.230,</td>\n",
       "      <td>\"-\"</td>\n",
       "    </tr>\n",
       "    <tr>\n",
       "      <th>323</th>\n",
       "      <td>\"GET /manufacturers/repeating-linear-gradient(...</td>\n",
       "      <td>Host:\"www.tradeindia.com\"</td>\n",
       "      <td>\"Mozilla/5.0 (X11; Linux x86_64) AppleWebKit/5...</td>\n",
       "      <td>216.218.191.202,</td>\n",
       "      <td>\"https://www.tradeindia.com/\"</td>\n",
       "    </tr>\n",
       "    <tr>\n",
       "      <th>1697</th>\n",
       "      <td>\"GET /manufacturers/silicon-carbide.html/ HTTP...</td>\n",
       "      <td>Host:\"www.tradeindia.com\"</td>\n",
       "      <td>\"GuzzleHttp/6.5.5 curl/7.58.0 PHP/7.4.21\"</td>\n",
       "      <td>194.163.154.37,</td>\n",
       "      <td>\"-\"</td>\n",
       "    </tr>\n",
       "    <tr>\n",
       "      <th>1780</th>\n",
       "      <td>\"GET /manufacturers/ladies-full-briefs.html HT...</td>\n",
       "      <td>Host:\"www.tradeindia.com\"</td>\n",
       "      <td>\"Mozilla/5.0(compatible;MSIE9.0;WindowsNT6.1;T...</td>\n",
       "      <td>123.6.49.38,</td>\n",
       "      <td>\"https://www.tradeindia.com/manufacturers/ladi...</td>\n",
       "    </tr>\n",
       "    <tr>\n",
       "      <th>1781</th>\n",
       "      <td>\"GET /manufacturers/black-bridal-sarees.html H...</td>\n",
       "      <td>Host:\"www.tradeindia.com\"</td>\n",
       "      <td>\"Mozilla/5.0(compatible;MSIE9.0;WindowsNT6.1;T...</td>\n",
       "      <td>1.192.192.4,</td>\n",
       "      <td>\"https://www.tradeindia.com/manufacturers/blac...</td>\n",
       "    </tr>\n",
       "    <tr>\n",
       "      <th>...</th>\n",
       "      <td>...</td>\n",
       "      <td>...</td>\n",
       "      <td>...</td>\n",
       "      <td>...</td>\n",
       "      <td>...</td>\n",
       "    </tr>\n",
       "    <tr>\n",
       "      <th>7199</th>\n",
       "      <td>\"GET /manufacturers/tel:01143364336/ HTTP/1.1\"</td>\n",
       "      <td>Host:\"www.tradeindia.com\"</td>\n",
       "      <td>\"Mozilla/4.0 (compatible; MSIE 8.0; Windows NT...</td>\n",
       "      <td>106.112.4.202,</td>\n",
       "      <td>\"-\"</td>\n",
       "    </tr>\n",
       "    <tr>\n",
       "      <th>7220</th>\n",
       "      <td>\"GET /manufacturers/dairy-farm-consultants.htm...</td>\n",
       "      <td>Host:\"www.tradeindia.com\"</td>\n",
       "      <td>\"Mozilla/5.0 (Windows NT 10.0; Win64; x64) App...</td>\n",
       "      <td>2401:4900:3135:df18:35c3:88f8:caa4:94c8,</td>\n",
       "      <td>\"https://www.tradeindia.com/\"</td>\n",
       "    </tr>\n",
       "    <tr>\n",
       "      <th>7325</th>\n",
       "      <td>\"GET /manufacturers/mailto:helpdesk@tradeindia...</td>\n",
       "      <td>Host:\"www.tradeindia.com\"</td>\n",
       "      <td>\"Mozilla/4.0 (compatible; MSIE 8.0; Windows NT...</td>\n",
       "      <td>106.112.4.202,</td>\n",
       "      <td>\"-\"</td>\n",
       "    </tr>\n",
       "    <tr>\n",
       "      <th>7541</th>\n",
       "      <td>\"GET /manufacturers/cartridge-filter.html HTTP...</td>\n",
       "      <td>Host:\"www.tradeindia.com\"</td>\n",
       "      <td>\"Mozilla/5.0 (Windows NT 10.0; Win64; x64) App...</td>\n",
       "      <td>42.236.43.237,</td>\n",
       "      <td>\"https://www.tradeindia.com/manufacturers/cart...</td>\n",
       "    </tr>\n",
       "    <tr>\n",
       "      <th>7561</th>\n",
       "      <td>\"GET /manufacturers/milk-candy.html HTTP/1.1\"</td>\n",
       "      <td>Host:\"www.tradeindia.com\"</td>\n",
       "      <td>\"Mozilla/5.0 (Windows NT 10.0; Win64; x64) App...</td>\n",
       "      <td>42.236.43.238,</td>\n",
       "      <td>\"https://www.tradeindia.com/manufacturers/milk...</td>\n",
       "    </tr>\n",
       "  </tbody>\n",
       "</table>\n",
       "<p>89 rows × 5 columns</p>\n",
       "</div>"
      ],
      "text/plain": [
       "                                                Request  \\\n",
       "95    \"GET /manufacturers/aerosol-coatings.html HTTP...   \n",
       "323   \"GET /manufacturers/repeating-linear-gradient(...   \n",
       "1697  \"GET /manufacturers/silicon-carbide.html/ HTTP...   \n",
       "1780  \"GET /manufacturers/ladies-full-briefs.html HT...   \n",
       "1781  \"GET /manufacturers/black-bridal-sarees.html H...   \n",
       "...                                                 ...   \n",
       "7199     \"GET /manufacturers/tel:01143364336/ HTTP/1.1\"   \n",
       "7220  \"GET /manufacturers/dairy-farm-consultants.htm...   \n",
       "7325  \"GET /manufacturers/mailto:helpdesk@tradeindia...   \n",
       "7541  \"GET /manufacturers/cartridge-filter.html HTTP...   \n",
       "7561      \"GET /manufacturers/milk-candy.html HTTP/1.1\"   \n",
       "\n",
       "                           Host  \\\n",
       "95    Host:\"www.tradeindia.com\"   \n",
       "323   Host:\"www.tradeindia.com\"   \n",
       "1697  Host:\"www.tradeindia.com\"   \n",
       "1780  Host:\"www.tradeindia.com\"   \n",
       "1781  Host:\"www.tradeindia.com\"   \n",
       "...                         ...   \n",
       "7199  Host:\"www.tradeindia.com\"   \n",
       "7220  Host:\"www.tradeindia.com\"   \n",
       "7325  Host:\"www.tradeindia.com\"   \n",
       "7541  Host:\"www.tradeindia.com\"   \n",
       "7561  Host:\"www.tradeindia.com\"   \n",
       "\n",
       "                                             User-Agent  \\\n",
       "95    \"Mozilla/5.0 (Linux; Android 8.0; Pixel 2 Buil...   \n",
       "323   \"Mozilla/5.0 (X11; Linux x86_64) AppleWebKit/5...   \n",
       "1697          \"GuzzleHttp/6.5.5 curl/7.58.0 PHP/7.4.21\"   \n",
       "1780  \"Mozilla/5.0(compatible;MSIE9.0;WindowsNT6.1;T...   \n",
       "1781  \"Mozilla/5.0(compatible;MSIE9.0;WindowsNT6.1;T...   \n",
       "...                                                 ...   \n",
       "7199  \"Mozilla/4.0 (compatible; MSIE 8.0; Windows NT...   \n",
       "7220  \"Mozilla/5.0 (Windows NT 10.0; Win64; x64) App...   \n",
       "7325  \"Mozilla/4.0 (compatible; MSIE 8.0; Windows NT...   \n",
       "7541  \"Mozilla/5.0 (Windows NT 10.0; Win64; x64) App...   \n",
       "7561  \"Mozilla/5.0 (Windows NT 10.0; Win64; x64) App...   \n",
       "\n",
       "                                          X-IP  \\\n",
       "95                              54.223.19.230,   \n",
       "323                           216.218.191.202,   \n",
       "1697                           194.163.154.37,   \n",
       "1780                              123.6.49.38,   \n",
       "1781                              1.192.192.4,   \n",
       "...                                        ...   \n",
       "7199                            106.112.4.202,   \n",
       "7220  2401:4900:3135:df18:35c3:88f8:caa4:94c8,   \n",
       "7325                            106.112.4.202,   \n",
       "7541                            42.236.43.237,   \n",
       "7561                            42.236.43.238,   \n",
       "\n",
       "                                                Referer  \n",
       "95                                                  \"-\"  \n",
       "323                       \"https://www.tradeindia.com/\"  \n",
       "1697                                                \"-\"  \n",
       "1780  \"https://www.tradeindia.com/manufacturers/ladi...  \n",
       "1781  \"https://www.tradeindia.com/manufacturers/blac...  \n",
       "...                                                 ...  \n",
       "7199                                                \"-\"  \n",
       "7220                      \"https://www.tradeindia.com/\"  \n",
       "7325                                                \"-\"  \n",
       "7541  \"https://www.tradeindia.com/manufacturers/cart...  \n",
       "7561  \"https://www.tradeindia.com/manufacturers/milk...  \n",
       "\n",
       "[89 rows x 5 columns]"
      ]
     },
     "execution_count": 40,
     "metadata": {},
     "output_type": "execute_result"
    }
   ],
   "source": [
    "# bot_df.groupby('X-IP')['Request'].agg(count = 'count').sort_values('count',ascending=False).to_csv('bot_404_ip_count.csv')\n",
    "# bot_df.groupby(['X-IP','Request'])['Request'].agg(count = 'count').sort_values('count',ascending=False).to_csv('bot_404_urls_count.csv')\n",
    "# google_bot_df.groupby(['Request'])['Request'].agg(count = 'count').sort_values('count',ascending=False)\n",
    "# .to_csv('googlebot_404_Url_count.csv')\n",
    "# .to_csv('googlebot_404_urls_count.csv')\n",
    "# google_bot_df.groupby('X-IP')['Request'].agg(count = 'count').sort_values('count',ascending=False).to_csv('googlebot_404_ip_count.csv')\n",
    "human_df"
   ]
  },
  {
   "cell_type": "code",
   "execution_count": 46,
   "id": "1e05dd30",
   "metadata": {},
   "outputs": [
    {
     "data": {
      "text/html": [
       "<div>\n",
       "<style scoped>\n",
       "    .dataframe tbody tr th:only-of-type {\n",
       "        vertical-align: middle;\n",
       "    }\n",
       "\n",
       "    .dataframe tbody tr th {\n",
       "        vertical-align: top;\n",
       "    }\n",
       "\n",
       "    .dataframe thead th {\n",
       "        text-align: right;\n",
       "    }\n",
       "</style>\n",
       "<table border=\"1\" class=\"dataframe\">\n",
       "  <thead>\n",
       "    <tr style=\"text-align: right;\">\n",
       "      <th></th>\n",
       "      <th>count</th>\n",
       "    </tr>\n",
       "    <tr>\n",
       "      <th>X-IP</th>\n",
       "      <th></th>\n",
       "    </tr>\n",
       "  </thead>\n",
       "  <tbody>\n",
       "    <tr>\n",
       "      <th>207.46.13.159,</th>\n",
       "      <td>300</td>\n",
       "    </tr>\n",
       "    <tr>\n",
       "      <th>207.46.13.156,</th>\n",
       "      <td>281</td>\n",
       "    </tr>\n",
       "    <tr>\n",
       "      <th>207.46.13.46,</th>\n",
       "      <td>237</td>\n",
       "    </tr>\n",
       "    <tr>\n",
       "      <th>157.55.39.84,</th>\n",
       "      <td>224</td>\n",
       "    </tr>\n",
       "    <tr>\n",
       "      <th>40.77.167.53,</th>\n",
       "      <td>213</td>\n",
       "    </tr>\n",
       "    <tr>\n",
       "      <th>207.46.13.39,</th>\n",
       "      <td>207</td>\n",
       "    </tr>\n",
       "    <tr>\n",
       "      <th>13.66.139.0,</th>\n",
       "      <td>88</td>\n",
       "    </tr>\n",
       "    <tr>\n",
       "      <th>157.55.39.185,</th>\n",
       "      <td>75</td>\n",
       "    </tr>\n",
       "    <tr>\n",
       "      <th>207.46.13.182,</th>\n",
       "      <td>64</td>\n",
       "    </tr>\n",
       "    <tr>\n",
       "      <th>207.46.13.100,</th>\n",
       "      <td>63</td>\n",
       "    </tr>\n",
       "    <tr>\n",
       "      <th>40.77.167.24,</th>\n",
       "      <td>58</td>\n",
       "    </tr>\n",
       "    <tr>\n",
       "      <th>157.55.39.175,</th>\n",
       "      <td>29</td>\n",
       "    </tr>\n",
       "    <tr>\n",
       "      <th>207.46.13.126,</th>\n",
       "      <td>2</td>\n",
       "    </tr>\n",
       "  </tbody>\n",
       "</table>\n",
       "</div>"
      ],
      "text/plain": [
       "                count\n",
       "X-IP                 \n",
       "207.46.13.159,    300\n",
       "207.46.13.156,    281\n",
       "207.46.13.46,     237\n",
       "157.55.39.84,     224\n",
       "40.77.167.53,     213\n",
       "207.46.13.39,     207\n",
       "13.66.139.0,       88\n",
       "157.55.39.185,     75\n",
       "207.46.13.182,     64\n",
       "207.46.13.100,     63\n",
       "40.77.167.24,      58\n",
       "157.55.39.175,     29\n",
       "207.46.13.126,      2"
      ]
     },
     "execution_count": 46,
     "metadata": {},
     "output_type": "execute_result"
    }
   ],
   "source": [
    "# bing_bot_df.groupby(['Request'])['Request'].agg(count = 'count').sort_values('count',ascending=False).to_csv('bingbot_404_urls_count.csv')\n",
    "# google_bot_df.groupby(['Request'])['Request'].agg(count = 'count').sort_values('count',ascending=False).to_csv('googlebot_404_urls_count.csv')\n",
    "# human_df.groupby(['Request'])['Request'].agg(count = 'count').sort_values('count',ascending=False).to_csv('human_404_Url_count.csv')\n",
    "bing_bot_df.groupby(['X-IP'])['Request'].agg(count = 'count').sort_values('count',ascending=False)\n",
    "# .to_csv('bingbot_404_ip_count.csv')\n",
    "# google_bot_df.groupby(['X-IP'])['Request'].agg(count = 'count').sort_values('count',ascending=False)\n",
    "# .to_csv('googlebot_404_ip_count.csv')\n",
    "# human_df.groupby(['X-IP'])['Request'].agg(count = 'count').sort_values('count',ascending=False)\n",
    "# .to_csv('human_404_ip_count.csv')"
   ]
  },
  {
   "cell_type": "code",
   "execution_count": 35,
   "id": "356cd623",
   "metadata": {},
   "outputs": [],
   "source": [
    "# bing_bot_df.loc[bing_bot_df['Request'].str.contains('/manufacturers/ARRAY-',case=False)].groupby('Referer')['Referer'].agg(count = 'count').sort_values('count',ascending=False)\n",
    "bing_bot_df.loc[bing_bot_df['Request'].str.contains('/manufacturers/ARRAY-',case=False)].groupby('Request')['Request'].agg(count = 'count').sort_values('count',ascending=False)\n",
    "bot_df.loc[bot_df['Request'].str.contains('/manufacturers/ARRAY-',case=False)==False].groupby('Request')['Request'].agg(count = 'count').sort_values('count',ascending=False)\n",
    "# .to_csv('ARRAY_urls_count.csv')\n",
    "bot_df.loc[bot_df['Request'].str.contains('-page[0-9]+',case=False)==True].groupby('Request')['Request'].agg(count = 'count').sort_values('count',ascending=False).to_csv('page_urls_count.csv')\n",
    "# human_df.loc[human_df['Request'].str.contains('-page[0-9]+',case=False)==True].groupby('Request')['Request'].agg(count = 'count').sort_values('count',ascending=False)\n",
    "# human_df.loc[human_df['Request'].str.contains('/manufacturers/ARRAY-',case=False)].groupby('Request')['Request'].agg(count = 'count').sort_values('count',ascending=False)\n",
    "# .to_csv('googlebot_ARRAY_urls.csv')\n",
    "# manu_df.loc[manu_df['Referer'].str.contains('-')==False]\n",
    "# human_df"
   ]
  },
  {
   "cell_type": "code",
   "execution_count": 43,
   "id": "180e21fb",
   "metadata": {},
   "outputs": [
    {
     "ename": "AttributeError",
     "evalue": "Can only use .str accessor with string values!",
     "output_type": "error",
     "traceback": [
      "\u001b[0;31m---------------------------------------------------------------------------\u001b[0m",
      "\u001b[0;31mAttributeError\u001b[0m                            Traceback (most recent call last)",
      "\u001b[0;32m/tmp/ipykernel_624996/3319127444.py\u001b[0m in \u001b[0;36m<module>\u001b[0;34m\u001b[0m\n\u001b[0;32m----> 1\u001b[0;31m \u001b[0mtmp_df\u001b[0m \u001b[0;34m=\u001b[0m\u001b[0mdf\u001b[0m\u001b[0;34m[\u001b[0m\u001b[0;34m'Response-Time'\u001b[0m\u001b[0;34m]\u001b[0m\u001b[0;34m.\u001b[0m\u001b[0mstr\u001b[0m\u001b[0;34m.\u001b[0m\u001b[0mreplace\u001b[0m\u001b[0;34m(\u001b[0m\u001b[0;34m'-'\u001b[0m\u001b[0;34m,\u001b[0m\u001b[0;34m''\u001b[0m\u001b[0;34m)\u001b[0m\u001b[0;34m\u001b[0m\u001b[0;34m\u001b[0m\u001b[0m\n\u001b[0m\u001b[1;32m      2\u001b[0m \u001b[0mtmp_sec\u001b[0m \u001b[0;34m=\u001b[0m \u001b[0;34m[\u001b[0m\u001b[0;34m]\u001b[0m\u001b[0;34m\u001b[0m\u001b[0;34m\u001b[0m\u001b[0m\n\u001b[1;32m      3\u001b[0m \u001b[0;32mfor\u001b[0m \u001b[0mi\u001b[0m \u001b[0;32min\u001b[0m \u001b[0mtmp_df\u001b[0m\u001b[0;34m.\u001b[0m\u001b[0mstr\u001b[0m\u001b[0;34m.\u001b[0m\u001b[0msplit\u001b[0m\u001b[0;34m(\u001b[0m\u001b[0;34m'/'\u001b[0m\u001b[0;34m)\u001b[0m\u001b[0;34m:\u001b[0m\u001b[0;34m\u001b[0m\u001b[0;34m\u001b[0m\u001b[0m\n\u001b[1;32m      4\u001b[0m     \u001b[0mtmp_sec\u001b[0m\u001b[0;34m.\u001b[0m\u001b[0mappend\u001b[0m\u001b[0;34m(\u001b[0m\u001b[0mfloat\u001b[0m\u001b[0;34m(\u001b[0m\u001b[0mi\u001b[0m\u001b[0;34m[\u001b[0m\u001b[0;36m0\u001b[0m\u001b[0;34m]\u001b[0m\u001b[0;34m)\u001b[0m\u001b[0;34m)\u001b[0m\u001b[0;34m\u001b[0m\u001b[0;34m\u001b[0m\u001b[0m\n\u001b[1;32m      5\u001b[0m \u001b[0mdf\u001b[0m\u001b[0;34m[\u001b[0m\u001b[0;34m'Response-Time'\u001b[0m\u001b[0;34m]\u001b[0m \u001b[0;34m=\u001b[0m \u001b[0mtmp_sec\u001b[0m\u001b[0;34m\u001b[0m\u001b[0;34m\u001b[0m\u001b[0m\n",
      "\u001b[0;32m~/anaconda3/lib/python3.9/site-packages/pandas/core/generic.py\u001b[0m in \u001b[0;36m__getattr__\u001b[0;34m(self, name)\u001b[0m\n\u001b[1;32m   5485\u001b[0m         ):\n\u001b[1;32m   5486\u001b[0m             \u001b[0;32mreturn\u001b[0m \u001b[0mself\u001b[0m\u001b[0;34m[\u001b[0m\u001b[0mname\u001b[0m\u001b[0;34m]\u001b[0m\u001b[0;34m\u001b[0m\u001b[0;34m\u001b[0m\u001b[0m\n\u001b[0;32m-> 5487\u001b[0;31m         \u001b[0;32mreturn\u001b[0m \u001b[0mobject\u001b[0m\u001b[0;34m.\u001b[0m\u001b[0m__getattribute__\u001b[0m\u001b[0;34m(\u001b[0m\u001b[0mself\u001b[0m\u001b[0;34m,\u001b[0m \u001b[0mname\u001b[0m\u001b[0;34m)\u001b[0m\u001b[0;34m\u001b[0m\u001b[0;34m\u001b[0m\u001b[0m\n\u001b[0m\u001b[1;32m   5488\u001b[0m \u001b[0;34m\u001b[0m\u001b[0m\n\u001b[1;32m   5489\u001b[0m     \u001b[0;32mdef\u001b[0m \u001b[0m__setattr__\u001b[0m\u001b[0;34m(\u001b[0m\u001b[0mself\u001b[0m\u001b[0;34m,\u001b[0m \u001b[0mname\u001b[0m\u001b[0;34m:\u001b[0m \u001b[0mstr\u001b[0m\u001b[0;34m,\u001b[0m \u001b[0mvalue\u001b[0m\u001b[0;34m)\u001b[0m \u001b[0;34m->\u001b[0m \u001b[0;32mNone\u001b[0m\u001b[0;34m:\u001b[0m\u001b[0;34m\u001b[0m\u001b[0;34m\u001b[0m\u001b[0m\n",
      "\u001b[0;32m~/anaconda3/lib/python3.9/site-packages/pandas/core/accessor.py\u001b[0m in \u001b[0;36m__get__\u001b[0;34m(self, obj, cls)\u001b[0m\n\u001b[1;32m    179\u001b[0m             \u001b[0;31m# we're accessing the attribute of the class, i.e., Dataset.geo\u001b[0m\u001b[0;34m\u001b[0m\u001b[0;34m\u001b[0m\u001b[0m\n\u001b[1;32m    180\u001b[0m             \u001b[0;32mreturn\u001b[0m \u001b[0mself\u001b[0m\u001b[0;34m.\u001b[0m\u001b[0m_accessor\u001b[0m\u001b[0;34m\u001b[0m\u001b[0;34m\u001b[0m\u001b[0m\n\u001b[0;32m--> 181\u001b[0;31m         \u001b[0maccessor_obj\u001b[0m \u001b[0;34m=\u001b[0m \u001b[0mself\u001b[0m\u001b[0;34m.\u001b[0m\u001b[0m_accessor\u001b[0m\u001b[0;34m(\u001b[0m\u001b[0mobj\u001b[0m\u001b[0;34m)\u001b[0m\u001b[0;34m\u001b[0m\u001b[0;34m\u001b[0m\u001b[0m\n\u001b[0m\u001b[1;32m    182\u001b[0m         \u001b[0;31m# Replace the property with the accessor object. Inspired by:\u001b[0m\u001b[0;34m\u001b[0m\u001b[0;34m\u001b[0m\u001b[0m\n\u001b[1;32m    183\u001b[0m         \u001b[0;31m# https://www.pydanny.com/cached-property.html\u001b[0m\u001b[0;34m\u001b[0m\u001b[0;34m\u001b[0m\u001b[0m\n",
      "\u001b[0;32m~/anaconda3/lib/python3.9/site-packages/pandas/core/strings/accessor.py\u001b[0m in \u001b[0;36m__init__\u001b[0;34m(self, data)\u001b[0m\n\u001b[1;32m    166\u001b[0m         \u001b[0;32mfrom\u001b[0m \u001b[0mpandas\u001b[0m\u001b[0;34m.\u001b[0m\u001b[0mcore\u001b[0m\u001b[0;34m.\u001b[0m\u001b[0marrays\u001b[0m\u001b[0;34m.\u001b[0m\u001b[0mstring_\u001b[0m \u001b[0;32mimport\u001b[0m \u001b[0mStringDtype\u001b[0m\u001b[0;34m\u001b[0m\u001b[0;34m\u001b[0m\u001b[0m\n\u001b[1;32m    167\u001b[0m \u001b[0;34m\u001b[0m\u001b[0m\n\u001b[0;32m--> 168\u001b[0;31m         \u001b[0mself\u001b[0m\u001b[0;34m.\u001b[0m\u001b[0m_inferred_dtype\u001b[0m \u001b[0;34m=\u001b[0m \u001b[0mself\u001b[0m\u001b[0;34m.\u001b[0m\u001b[0m_validate\u001b[0m\u001b[0;34m(\u001b[0m\u001b[0mdata\u001b[0m\u001b[0;34m)\u001b[0m\u001b[0;34m\u001b[0m\u001b[0;34m\u001b[0m\u001b[0m\n\u001b[0m\u001b[1;32m    169\u001b[0m         \u001b[0mself\u001b[0m\u001b[0;34m.\u001b[0m\u001b[0m_is_categorical\u001b[0m \u001b[0;34m=\u001b[0m \u001b[0mis_categorical_dtype\u001b[0m\u001b[0;34m(\u001b[0m\u001b[0mdata\u001b[0m\u001b[0;34m.\u001b[0m\u001b[0mdtype\u001b[0m\u001b[0;34m)\u001b[0m\u001b[0;34m\u001b[0m\u001b[0;34m\u001b[0m\u001b[0m\n\u001b[1;32m    170\u001b[0m         \u001b[0mself\u001b[0m\u001b[0;34m.\u001b[0m\u001b[0m_is_string\u001b[0m \u001b[0;34m=\u001b[0m \u001b[0misinstance\u001b[0m\u001b[0;34m(\u001b[0m\u001b[0mdata\u001b[0m\u001b[0;34m.\u001b[0m\u001b[0mdtype\u001b[0m\u001b[0;34m,\u001b[0m \u001b[0mStringDtype\u001b[0m\u001b[0;34m)\u001b[0m\u001b[0;34m\u001b[0m\u001b[0;34m\u001b[0m\u001b[0m\n",
      "\u001b[0;32m~/anaconda3/lib/python3.9/site-packages/pandas/core/strings/accessor.py\u001b[0m in \u001b[0;36m_validate\u001b[0;34m(data)\u001b[0m\n\u001b[1;32m    223\u001b[0m \u001b[0;34m\u001b[0m\u001b[0m\n\u001b[1;32m    224\u001b[0m         \u001b[0;32mif\u001b[0m \u001b[0minferred_dtype\u001b[0m \u001b[0;32mnot\u001b[0m \u001b[0;32min\u001b[0m \u001b[0mallowed_types\u001b[0m\u001b[0;34m:\u001b[0m\u001b[0;34m\u001b[0m\u001b[0;34m\u001b[0m\u001b[0m\n\u001b[0;32m--> 225\u001b[0;31m             \u001b[0;32mraise\u001b[0m \u001b[0mAttributeError\u001b[0m\u001b[0;34m(\u001b[0m\u001b[0;34m\"Can only use .str accessor with string values!\"\u001b[0m\u001b[0;34m)\u001b[0m\u001b[0;34m\u001b[0m\u001b[0;34m\u001b[0m\u001b[0m\n\u001b[0m\u001b[1;32m    226\u001b[0m         \u001b[0;32mreturn\u001b[0m \u001b[0minferred_dtype\u001b[0m\u001b[0;34m\u001b[0m\u001b[0;34m\u001b[0m\u001b[0m\n\u001b[1;32m    227\u001b[0m \u001b[0;34m\u001b[0m\u001b[0m\n",
      "\u001b[0;31mAttributeError\u001b[0m: Can only use .str accessor with string values!"
     ]
    }
   ],
   "source": [
    "tmp_df =df['Response-Time'].str.replace('-','')\n",
    "tmp_sec = []\n",
    "for i in tmp_df.str.split('/'):\n",
    "    tmp_sec.append(float(i[0]))\n",
    "df['Response-Time'] = tmp_sec\n"
   ]
  },
  {
   "cell_type": "code",
   "execution_count": 72,
   "id": "a375a9b9",
   "metadata": {},
   "outputs": [
    {
     "name": "stderr",
     "output_type": "stream",
     "text": [
      "/tmp/ipykernel_624996/177103739.py:5: SettingWithCopyWarning: \n",
      "A value is trying to be set on a copy of a slice from a DataFrame.\n",
      "Try using .loc[row_indexer,col_indexer] = value instead\n",
      "\n",
      "See the caveats in the documentation: https://pandas.pydata.org/pandas-docs/stable/user_guide/indexing.html#returning-a-view-versus-a-copy\n",
      "  tmp_df['Time-Stamp'] = h_list\n"
     ]
    }
   ],
   "source": [
    "tmp_df = df[['Time-Stamp','Response-Time','Request','Referer','User-Agent']]\n",
    "h_list = []\n",
    "for hour in tmp_df['Time-Stamp'].str.split(':'):\n",
    "    h_list.append(hour[1])\n",
    "tmp_df['Time-Stamp'] = h_list\n",
    "\n",
    "# .groupby(['Time-Stamp','Response-Time'])['Response-Time'].agg(count='sum').sort_values('count')\n",
    "# .groupby(['Response-Time'])['Request'].agg(count='count').sort_values('count')"
   ]
  },
  {
   "cell_type": "code",
   "execution_count": 111,
   "id": "b05b3ab1",
   "metadata": {},
   "outputs": [],
   "source": [
    "bot_tmp = tmp_df.loc[tmp_df['User-Agent'].str.contains('bot')]\n",
    "# bot_tmp.loc(bot_tmp)\n",
    "hu_tmp = tmp_df.loc[tmp_df['User-Agent'].str.contains('bot')==False]\n",
    "data_hu = hu_tmp.groupby('Time-Stamp')['Response-Time'].agg(uhrestime = 'sum')\n",
    "data_bot = bot_tmp.groupby('Time-Stamp')['Response-Time'].agg(botrestime = 'sum')\n",
    "\n",
    "\n",
    "# data_bot\n",
    "data_com = pd.concat([data_bot, data_hu], axis=1)\n"
   ]
  },
  {
   "cell_type": "code",
   "execution_count": 113,
   "id": "c16e6ee6",
   "metadata": {},
   "outputs": [],
   "source": [
    "\n",
    "fig = px.line(data_com, labels={\"value\":\"Response-Time (Sec)\"})\n",
    "fig.write_html(\"404_rs_graph.html\")"
   ]
  },
  {
   "cell_type": "code",
   "execution_count": 109,
   "id": "65465c26",
   "metadata": {},
   "outputs": [
    {
     "data": {
      "application/vnd.plotly.v1+json": {
       "config": {
        "plotlyServerURL": "https://plot.ly"
       },
       "data": [
        {
         "hovertemplate": "variable=uhrestime<br>Time-Stamp=%{x}<br>Response-Time (Sec)=%{y}<extra></extra>",
         "legendgroup": "uhrestime",
         "line": {
          "color": "#636efa",
          "dash": "solid"
         },
         "marker": {
          "symbol": "circle"
         },
         "mode": "lines",
         "name": "uhrestime",
         "orientation": "v",
         "showlegend": true,
         "type": "scatter",
         "x": [
          "00",
          "01",
          "02",
          "03",
          "04",
          "05",
          "06",
          "07",
          "08",
          "09",
          "10",
          "11",
          "12",
          "13",
          "14",
          "15",
          "16",
          "17",
          "18",
          "19",
          "20",
          "21",
          "22",
          "23"
         ],
         "xaxis": "x",
         "y": [
          0.942,
          0.522,
          0.603,
          0.75,
          0.394,
          0.365,
          0.538,
          0.8250000000000001,
          0.682,
          1.335,
          1.578,
          1.481,
          1.516,
          4.492,
          1.163,
          6.92,
          1.79,
          8.837,
          1.33,
          10.112,
          0.977,
          1.584,
          1.046,
          1.206
         ],
         "yaxis": "y"
        }
       ],
       "layout": {
        "legend": {
         "title": {
          "text": "variable"
         },
         "tracegroupgap": 0
        },
        "margin": {
         "t": 60
        },
        "template": {
         "data": {
          "bar": [
           {
            "error_x": {
             "color": "#2a3f5f"
            },
            "error_y": {
             "color": "#2a3f5f"
            },
            "marker": {
             "line": {
              "color": "#E5ECF6",
              "width": 0.5
             },
             "pattern": {
              "fillmode": "overlay",
              "size": 10,
              "solidity": 0.2
             }
            },
            "type": "bar"
           }
          ],
          "barpolar": [
           {
            "marker": {
             "line": {
              "color": "#E5ECF6",
              "width": 0.5
             },
             "pattern": {
              "fillmode": "overlay",
              "size": 10,
              "solidity": 0.2
             }
            },
            "type": "barpolar"
           }
          ],
          "carpet": [
           {
            "aaxis": {
             "endlinecolor": "#2a3f5f",
             "gridcolor": "white",
             "linecolor": "white",
             "minorgridcolor": "white",
             "startlinecolor": "#2a3f5f"
            },
            "baxis": {
             "endlinecolor": "#2a3f5f",
             "gridcolor": "white",
             "linecolor": "white",
             "minorgridcolor": "white",
             "startlinecolor": "#2a3f5f"
            },
            "type": "carpet"
           }
          ],
          "choropleth": [
           {
            "colorbar": {
             "outlinewidth": 0,
             "ticks": ""
            },
            "type": "choropleth"
           }
          ],
          "contour": [
           {
            "colorbar": {
             "outlinewidth": 0,
             "ticks": ""
            },
            "colorscale": [
             [
              0,
              "#0d0887"
             ],
             [
              0.1111111111111111,
              "#46039f"
             ],
             [
              0.2222222222222222,
              "#7201a8"
             ],
             [
              0.3333333333333333,
              "#9c179e"
             ],
             [
              0.4444444444444444,
              "#bd3786"
             ],
             [
              0.5555555555555556,
              "#d8576b"
             ],
             [
              0.6666666666666666,
              "#ed7953"
             ],
             [
              0.7777777777777778,
              "#fb9f3a"
             ],
             [
              0.8888888888888888,
              "#fdca26"
             ],
             [
              1,
              "#f0f921"
             ]
            ],
            "type": "contour"
           }
          ],
          "contourcarpet": [
           {
            "colorbar": {
             "outlinewidth": 0,
             "ticks": ""
            },
            "type": "contourcarpet"
           }
          ],
          "heatmap": [
           {
            "colorbar": {
             "outlinewidth": 0,
             "ticks": ""
            },
            "colorscale": [
             [
              0,
              "#0d0887"
             ],
             [
              0.1111111111111111,
              "#46039f"
             ],
             [
              0.2222222222222222,
              "#7201a8"
             ],
             [
              0.3333333333333333,
              "#9c179e"
             ],
             [
              0.4444444444444444,
              "#bd3786"
             ],
             [
              0.5555555555555556,
              "#d8576b"
             ],
             [
              0.6666666666666666,
              "#ed7953"
             ],
             [
              0.7777777777777778,
              "#fb9f3a"
             ],
             [
              0.8888888888888888,
              "#fdca26"
             ],
             [
              1,
              "#f0f921"
             ]
            ],
            "type": "heatmap"
           }
          ],
          "heatmapgl": [
           {
            "colorbar": {
             "outlinewidth": 0,
             "ticks": ""
            },
            "colorscale": [
             [
              0,
              "#0d0887"
             ],
             [
              0.1111111111111111,
              "#46039f"
             ],
             [
              0.2222222222222222,
              "#7201a8"
             ],
             [
              0.3333333333333333,
              "#9c179e"
             ],
             [
              0.4444444444444444,
              "#bd3786"
             ],
             [
              0.5555555555555556,
              "#d8576b"
             ],
             [
              0.6666666666666666,
              "#ed7953"
             ],
             [
              0.7777777777777778,
              "#fb9f3a"
             ],
             [
              0.8888888888888888,
              "#fdca26"
             ],
             [
              1,
              "#f0f921"
             ]
            ],
            "type": "heatmapgl"
           }
          ],
          "histogram": [
           {
            "marker": {
             "pattern": {
              "fillmode": "overlay",
              "size": 10,
              "solidity": 0.2
             }
            },
            "type": "histogram"
           }
          ],
          "histogram2d": [
           {
            "colorbar": {
             "outlinewidth": 0,
             "ticks": ""
            },
            "colorscale": [
             [
              0,
              "#0d0887"
             ],
             [
              0.1111111111111111,
              "#46039f"
             ],
             [
              0.2222222222222222,
              "#7201a8"
             ],
             [
              0.3333333333333333,
              "#9c179e"
             ],
             [
              0.4444444444444444,
              "#bd3786"
             ],
             [
              0.5555555555555556,
              "#d8576b"
             ],
             [
              0.6666666666666666,
              "#ed7953"
             ],
             [
              0.7777777777777778,
              "#fb9f3a"
             ],
             [
              0.8888888888888888,
              "#fdca26"
             ],
             [
              1,
              "#f0f921"
             ]
            ],
            "type": "histogram2d"
           }
          ],
          "histogram2dcontour": [
           {
            "colorbar": {
             "outlinewidth": 0,
             "ticks": ""
            },
            "colorscale": [
             [
              0,
              "#0d0887"
             ],
             [
              0.1111111111111111,
              "#46039f"
             ],
             [
              0.2222222222222222,
              "#7201a8"
             ],
             [
              0.3333333333333333,
              "#9c179e"
             ],
             [
              0.4444444444444444,
              "#bd3786"
             ],
             [
              0.5555555555555556,
              "#d8576b"
             ],
             [
              0.6666666666666666,
              "#ed7953"
             ],
             [
              0.7777777777777778,
              "#fb9f3a"
             ],
             [
              0.8888888888888888,
              "#fdca26"
             ],
             [
              1,
              "#f0f921"
             ]
            ],
            "type": "histogram2dcontour"
           }
          ],
          "mesh3d": [
           {
            "colorbar": {
             "outlinewidth": 0,
             "ticks": ""
            },
            "type": "mesh3d"
           }
          ],
          "parcoords": [
           {
            "line": {
             "colorbar": {
              "outlinewidth": 0,
              "ticks": ""
             }
            },
            "type": "parcoords"
           }
          ],
          "pie": [
           {
            "automargin": true,
            "type": "pie"
           }
          ],
          "scatter": [
           {
            "marker": {
             "colorbar": {
              "outlinewidth": 0,
              "ticks": ""
             }
            },
            "type": "scatter"
           }
          ],
          "scatter3d": [
           {
            "line": {
             "colorbar": {
              "outlinewidth": 0,
              "ticks": ""
             }
            },
            "marker": {
             "colorbar": {
              "outlinewidth": 0,
              "ticks": ""
             }
            },
            "type": "scatter3d"
           }
          ],
          "scattercarpet": [
           {
            "marker": {
             "colorbar": {
              "outlinewidth": 0,
              "ticks": ""
             }
            },
            "type": "scattercarpet"
           }
          ],
          "scattergeo": [
           {
            "marker": {
             "colorbar": {
              "outlinewidth": 0,
              "ticks": ""
             }
            },
            "type": "scattergeo"
           }
          ],
          "scattergl": [
           {
            "marker": {
             "colorbar": {
              "outlinewidth": 0,
              "ticks": ""
             }
            },
            "type": "scattergl"
           }
          ],
          "scattermapbox": [
           {
            "marker": {
             "colorbar": {
              "outlinewidth": 0,
              "ticks": ""
             }
            },
            "type": "scattermapbox"
           }
          ],
          "scatterpolar": [
           {
            "marker": {
             "colorbar": {
              "outlinewidth": 0,
              "ticks": ""
             }
            },
            "type": "scatterpolar"
           }
          ],
          "scatterpolargl": [
           {
            "marker": {
             "colorbar": {
              "outlinewidth": 0,
              "ticks": ""
             }
            },
            "type": "scatterpolargl"
           }
          ],
          "scatterternary": [
           {
            "marker": {
             "colorbar": {
              "outlinewidth": 0,
              "ticks": ""
             }
            },
            "type": "scatterternary"
           }
          ],
          "surface": [
           {
            "colorbar": {
             "outlinewidth": 0,
             "ticks": ""
            },
            "colorscale": [
             [
              0,
              "#0d0887"
             ],
             [
              0.1111111111111111,
              "#46039f"
             ],
             [
              0.2222222222222222,
              "#7201a8"
             ],
             [
              0.3333333333333333,
              "#9c179e"
             ],
             [
              0.4444444444444444,
              "#bd3786"
             ],
             [
              0.5555555555555556,
              "#d8576b"
             ],
             [
              0.6666666666666666,
              "#ed7953"
             ],
             [
              0.7777777777777778,
              "#fb9f3a"
             ],
             [
              0.8888888888888888,
              "#fdca26"
             ],
             [
              1,
              "#f0f921"
             ]
            ],
            "type": "surface"
           }
          ],
          "table": [
           {
            "cells": {
             "fill": {
              "color": "#EBF0F8"
             },
             "line": {
              "color": "white"
             }
            },
            "header": {
             "fill": {
              "color": "#C8D4E3"
             },
             "line": {
              "color": "white"
             }
            },
            "type": "table"
           }
          ]
         },
         "layout": {
          "annotationdefaults": {
           "arrowcolor": "#2a3f5f",
           "arrowhead": 0,
           "arrowwidth": 1
          },
          "autotypenumbers": "strict",
          "coloraxis": {
           "colorbar": {
            "outlinewidth": 0,
            "ticks": ""
           }
          },
          "colorscale": {
           "diverging": [
            [
             0,
             "#8e0152"
            ],
            [
             0.1,
             "#c51b7d"
            ],
            [
             0.2,
             "#de77ae"
            ],
            [
             0.3,
             "#f1b6da"
            ],
            [
             0.4,
             "#fde0ef"
            ],
            [
             0.5,
             "#f7f7f7"
            ],
            [
             0.6,
             "#e6f5d0"
            ],
            [
             0.7,
             "#b8e186"
            ],
            [
             0.8,
             "#7fbc41"
            ],
            [
             0.9,
             "#4d9221"
            ],
            [
             1,
             "#276419"
            ]
           ],
           "sequential": [
            [
             0,
             "#0d0887"
            ],
            [
             0.1111111111111111,
             "#46039f"
            ],
            [
             0.2222222222222222,
             "#7201a8"
            ],
            [
             0.3333333333333333,
             "#9c179e"
            ],
            [
             0.4444444444444444,
             "#bd3786"
            ],
            [
             0.5555555555555556,
             "#d8576b"
            ],
            [
             0.6666666666666666,
             "#ed7953"
            ],
            [
             0.7777777777777778,
             "#fb9f3a"
            ],
            [
             0.8888888888888888,
             "#fdca26"
            ],
            [
             1,
             "#f0f921"
            ]
           ],
           "sequentialminus": [
            [
             0,
             "#0d0887"
            ],
            [
             0.1111111111111111,
             "#46039f"
            ],
            [
             0.2222222222222222,
             "#7201a8"
            ],
            [
             0.3333333333333333,
             "#9c179e"
            ],
            [
             0.4444444444444444,
             "#bd3786"
            ],
            [
             0.5555555555555556,
             "#d8576b"
            ],
            [
             0.6666666666666666,
             "#ed7953"
            ],
            [
             0.7777777777777778,
             "#fb9f3a"
            ],
            [
             0.8888888888888888,
             "#fdca26"
            ],
            [
             1,
             "#f0f921"
            ]
           ]
          },
          "colorway": [
           "#636efa",
           "#EF553B",
           "#00cc96",
           "#ab63fa",
           "#FFA15A",
           "#19d3f3",
           "#FF6692",
           "#B6E880",
           "#FF97FF",
           "#FECB52"
          ],
          "font": {
           "color": "#2a3f5f"
          },
          "geo": {
           "bgcolor": "white",
           "lakecolor": "white",
           "landcolor": "#E5ECF6",
           "showlakes": true,
           "showland": true,
           "subunitcolor": "white"
          },
          "hoverlabel": {
           "align": "left"
          },
          "hovermode": "closest",
          "mapbox": {
           "style": "light"
          },
          "paper_bgcolor": "white",
          "plot_bgcolor": "#E5ECF6",
          "polar": {
           "angularaxis": {
            "gridcolor": "white",
            "linecolor": "white",
            "ticks": ""
           },
           "bgcolor": "#E5ECF6",
           "radialaxis": {
            "gridcolor": "white",
            "linecolor": "white",
            "ticks": ""
           }
          },
          "scene": {
           "xaxis": {
            "backgroundcolor": "#E5ECF6",
            "gridcolor": "white",
            "gridwidth": 2,
            "linecolor": "white",
            "showbackground": true,
            "ticks": "",
            "zerolinecolor": "white"
           },
           "yaxis": {
            "backgroundcolor": "#E5ECF6",
            "gridcolor": "white",
            "gridwidth": 2,
            "linecolor": "white",
            "showbackground": true,
            "ticks": "",
            "zerolinecolor": "white"
           },
           "zaxis": {
            "backgroundcolor": "#E5ECF6",
            "gridcolor": "white",
            "gridwidth": 2,
            "linecolor": "white",
            "showbackground": true,
            "ticks": "",
            "zerolinecolor": "white"
           }
          },
          "shapedefaults": {
           "line": {
            "color": "#2a3f5f"
           }
          },
          "ternary": {
           "aaxis": {
            "gridcolor": "white",
            "linecolor": "white",
            "ticks": ""
           },
           "baxis": {
            "gridcolor": "white",
            "linecolor": "white",
            "ticks": ""
           },
           "bgcolor": "#E5ECF6",
           "caxis": {
            "gridcolor": "white",
            "linecolor": "white",
            "ticks": ""
           }
          },
          "title": {
           "x": 0.05
          },
          "xaxis": {
           "automargin": true,
           "gridcolor": "white",
           "linecolor": "white",
           "ticks": "",
           "title": {
            "standoff": 15
           },
           "zerolinecolor": "white",
           "zerolinewidth": 2
          },
          "yaxis": {
           "automargin": true,
           "gridcolor": "white",
           "linecolor": "white",
           "ticks": "",
           "title": {
            "standoff": 15
           },
           "zerolinecolor": "white",
           "zerolinewidth": 2
          }
         }
        },
        "xaxis": {
         "anchor": "y",
         "domain": [
          0,
          1
         ],
         "title": {
          "text": "Time-Stamp"
         }
        },
        "yaxis": {
         "anchor": "x",
         "domain": [
          0,
          1
         ],
         "title": {
          "text": "Response-Time (Sec)"
         }
        }
       }
      },
      "text/html": [
       "<div>                            <div id=\"a21ca43d-e390-4e86-8f26-b04c73bc10ab\" class=\"plotly-graph-div\" style=\"height:525px; width:100%;\"></div>            <script type=\"text/javascript\">                require([\"plotly\"], function(Plotly) {                    window.PLOTLYENV=window.PLOTLYENV || {};                                    if (document.getElementById(\"a21ca43d-e390-4e86-8f26-b04c73bc10ab\")) {                    Plotly.newPlot(                        \"a21ca43d-e390-4e86-8f26-b04c73bc10ab\",                        [{\"hovertemplate\":\"variable=uhrestime<br>Time-Stamp=%{x}<br>Response-Time (Sec)=%{y}<extra></extra>\",\"legendgroup\":\"uhrestime\",\"line\":{\"color\":\"#636efa\",\"dash\":\"solid\"},\"marker\":{\"symbol\":\"circle\"},\"mode\":\"lines\",\"name\":\"uhrestime\",\"orientation\":\"v\",\"showlegend\":true,\"x\":[\"00\",\"01\",\"02\",\"03\",\"04\",\"05\",\"06\",\"07\",\"08\",\"09\",\"10\",\"11\",\"12\",\"13\",\"14\",\"15\",\"16\",\"17\",\"18\",\"19\",\"20\",\"21\",\"22\",\"23\"],\"xaxis\":\"x\",\"y\":[0.942,0.522,0.603,0.75,0.394,0.365,0.538,0.8250000000000001,0.682,1.335,1.578,1.481,1.516,4.492,1.163,6.92,1.79,8.837,1.33,10.112,0.977,1.584,1.046,1.206],\"yaxis\":\"y\",\"type\":\"scatter\"}],                        {\"template\":{\"data\":{\"bar\":[{\"error_x\":{\"color\":\"#2a3f5f\"},\"error_y\":{\"color\":\"#2a3f5f\"},\"marker\":{\"line\":{\"color\":\"#E5ECF6\",\"width\":0.5},\"pattern\":{\"fillmode\":\"overlay\",\"size\":10,\"solidity\":0.2}},\"type\":\"bar\"}],\"barpolar\":[{\"marker\":{\"line\":{\"color\":\"#E5ECF6\",\"width\":0.5},\"pattern\":{\"fillmode\":\"overlay\",\"size\":10,\"solidity\":0.2}},\"type\":\"barpolar\"}],\"carpet\":[{\"aaxis\":{\"endlinecolor\":\"#2a3f5f\",\"gridcolor\":\"white\",\"linecolor\":\"white\",\"minorgridcolor\":\"white\",\"startlinecolor\":\"#2a3f5f\"},\"baxis\":{\"endlinecolor\":\"#2a3f5f\",\"gridcolor\":\"white\",\"linecolor\":\"white\",\"minorgridcolor\":\"white\",\"startlinecolor\":\"#2a3f5f\"},\"type\":\"carpet\"}],\"choropleth\":[{\"colorbar\":{\"outlinewidth\":0,\"ticks\":\"\"},\"type\":\"choropleth\"}],\"contour\":[{\"colorbar\":{\"outlinewidth\":0,\"ticks\":\"\"},\"colorscale\":[[0.0,\"#0d0887\"],[0.1111111111111111,\"#46039f\"],[0.2222222222222222,\"#7201a8\"],[0.3333333333333333,\"#9c179e\"],[0.4444444444444444,\"#bd3786\"],[0.5555555555555556,\"#d8576b\"],[0.6666666666666666,\"#ed7953\"],[0.7777777777777778,\"#fb9f3a\"],[0.8888888888888888,\"#fdca26\"],[1.0,\"#f0f921\"]],\"type\":\"contour\"}],\"contourcarpet\":[{\"colorbar\":{\"outlinewidth\":0,\"ticks\":\"\"},\"type\":\"contourcarpet\"}],\"heatmap\":[{\"colorbar\":{\"outlinewidth\":0,\"ticks\":\"\"},\"colorscale\":[[0.0,\"#0d0887\"],[0.1111111111111111,\"#46039f\"],[0.2222222222222222,\"#7201a8\"],[0.3333333333333333,\"#9c179e\"],[0.4444444444444444,\"#bd3786\"],[0.5555555555555556,\"#d8576b\"],[0.6666666666666666,\"#ed7953\"],[0.7777777777777778,\"#fb9f3a\"],[0.8888888888888888,\"#fdca26\"],[1.0,\"#f0f921\"]],\"type\":\"heatmap\"}],\"heatmapgl\":[{\"colorbar\":{\"outlinewidth\":0,\"ticks\":\"\"},\"colorscale\":[[0.0,\"#0d0887\"],[0.1111111111111111,\"#46039f\"],[0.2222222222222222,\"#7201a8\"],[0.3333333333333333,\"#9c179e\"],[0.4444444444444444,\"#bd3786\"],[0.5555555555555556,\"#d8576b\"],[0.6666666666666666,\"#ed7953\"],[0.7777777777777778,\"#fb9f3a\"],[0.8888888888888888,\"#fdca26\"],[1.0,\"#f0f921\"]],\"type\":\"heatmapgl\"}],\"histogram\":[{\"marker\":{\"pattern\":{\"fillmode\":\"overlay\",\"size\":10,\"solidity\":0.2}},\"type\":\"histogram\"}],\"histogram2d\":[{\"colorbar\":{\"outlinewidth\":0,\"ticks\":\"\"},\"colorscale\":[[0.0,\"#0d0887\"],[0.1111111111111111,\"#46039f\"],[0.2222222222222222,\"#7201a8\"],[0.3333333333333333,\"#9c179e\"],[0.4444444444444444,\"#bd3786\"],[0.5555555555555556,\"#d8576b\"],[0.6666666666666666,\"#ed7953\"],[0.7777777777777778,\"#fb9f3a\"],[0.8888888888888888,\"#fdca26\"],[1.0,\"#f0f921\"]],\"type\":\"histogram2d\"}],\"histogram2dcontour\":[{\"colorbar\":{\"outlinewidth\":0,\"ticks\":\"\"},\"colorscale\":[[0.0,\"#0d0887\"],[0.1111111111111111,\"#46039f\"],[0.2222222222222222,\"#7201a8\"],[0.3333333333333333,\"#9c179e\"],[0.4444444444444444,\"#bd3786\"],[0.5555555555555556,\"#d8576b\"],[0.6666666666666666,\"#ed7953\"],[0.7777777777777778,\"#fb9f3a\"],[0.8888888888888888,\"#fdca26\"],[1.0,\"#f0f921\"]],\"type\":\"histogram2dcontour\"}],\"mesh3d\":[{\"colorbar\":{\"outlinewidth\":0,\"ticks\":\"\"},\"type\":\"mesh3d\"}],\"parcoords\":[{\"line\":{\"colorbar\":{\"outlinewidth\":0,\"ticks\":\"\"}},\"type\":\"parcoords\"}],\"pie\":[{\"automargin\":true,\"type\":\"pie\"}],\"scatter\":[{\"marker\":{\"colorbar\":{\"outlinewidth\":0,\"ticks\":\"\"}},\"type\":\"scatter\"}],\"scatter3d\":[{\"line\":{\"colorbar\":{\"outlinewidth\":0,\"ticks\":\"\"}},\"marker\":{\"colorbar\":{\"outlinewidth\":0,\"ticks\":\"\"}},\"type\":\"scatter3d\"}],\"scattercarpet\":[{\"marker\":{\"colorbar\":{\"outlinewidth\":0,\"ticks\":\"\"}},\"type\":\"scattercarpet\"}],\"scattergeo\":[{\"marker\":{\"colorbar\":{\"outlinewidth\":0,\"ticks\":\"\"}},\"type\":\"scattergeo\"}],\"scattergl\":[{\"marker\":{\"colorbar\":{\"outlinewidth\":0,\"ticks\":\"\"}},\"type\":\"scattergl\"}],\"scattermapbox\":[{\"marker\":{\"colorbar\":{\"outlinewidth\":0,\"ticks\":\"\"}},\"type\":\"scattermapbox\"}],\"scatterpolar\":[{\"marker\":{\"colorbar\":{\"outlinewidth\":0,\"ticks\":\"\"}},\"type\":\"scatterpolar\"}],\"scatterpolargl\":[{\"marker\":{\"colorbar\":{\"outlinewidth\":0,\"ticks\":\"\"}},\"type\":\"scatterpolargl\"}],\"scatterternary\":[{\"marker\":{\"colorbar\":{\"outlinewidth\":0,\"ticks\":\"\"}},\"type\":\"scatterternary\"}],\"surface\":[{\"colorbar\":{\"outlinewidth\":0,\"ticks\":\"\"},\"colorscale\":[[0.0,\"#0d0887\"],[0.1111111111111111,\"#46039f\"],[0.2222222222222222,\"#7201a8\"],[0.3333333333333333,\"#9c179e\"],[0.4444444444444444,\"#bd3786\"],[0.5555555555555556,\"#d8576b\"],[0.6666666666666666,\"#ed7953\"],[0.7777777777777778,\"#fb9f3a\"],[0.8888888888888888,\"#fdca26\"],[1.0,\"#f0f921\"]],\"type\":\"surface\"}],\"table\":[{\"cells\":{\"fill\":{\"color\":\"#EBF0F8\"},\"line\":{\"color\":\"white\"}},\"header\":{\"fill\":{\"color\":\"#C8D4E3\"},\"line\":{\"color\":\"white\"}},\"type\":\"table\"}]},\"layout\":{\"annotationdefaults\":{\"arrowcolor\":\"#2a3f5f\",\"arrowhead\":0,\"arrowwidth\":1},\"autotypenumbers\":\"strict\",\"coloraxis\":{\"colorbar\":{\"outlinewidth\":0,\"ticks\":\"\"}},\"colorscale\":{\"diverging\":[[0,\"#8e0152\"],[0.1,\"#c51b7d\"],[0.2,\"#de77ae\"],[0.3,\"#f1b6da\"],[0.4,\"#fde0ef\"],[0.5,\"#f7f7f7\"],[0.6,\"#e6f5d0\"],[0.7,\"#b8e186\"],[0.8,\"#7fbc41\"],[0.9,\"#4d9221\"],[1,\"#276419\"]],\"sequential\":[[0.0,\"#0d0887\"],[0.1111111111111111,\"#46039f\"],[0.2222222222222222,\"#7201a8\"],[0.3333333333333333,\"#9c179e\"],[0.4444444444444444,\"#bd3786\"],[0.5555555555555556,\"#d8576b\"],[0.6666666666666666,\"#ed7953\"],[0.7777777777777778,\"#fb9f3a\"],[0.8888888888888888,\"#fdca26\"],[1.0,\"#f0f921\"]],\"sequentialminus\":[[0.0,\"#0d0887\"],[0.1111111111111111,\"#46039f\"],[0.2222222222222222,\"#7201a8\"],[0.3333333333333333,\"#9c179e\"],[0.4444444444444444,\"#bd3786\"],[0.5555555555555556,\"#d8576b\"],[0.6666666666666666,\"#ed7953\"],[0.7777777777777778,\"#fb9f3a\"],[0.8888888888888888,\"#fdca26\"],[1.0,\"#f0f921\"]]},\"colorway\":[\"#636efa\",\"#EF553B\",\"#00cc96\",\"#ab63fa\",\"#FFA15A\",\"#19d3f3\",\"#FF6692\",\"#B6E880\",\"#FF97FF\",\"#FECB52\"],\"font\":{\"color\":\"#2a3f5f\"},\"geo\":{\"bgcolor\":\"white\",\"lakecolor\":\"white\",\"landcolor\":\"#E5ECF6\",\"showlakes\":true,\"showland\":true,\"subunitcolor\":\"white\"},\"hoverlabel\":{\"align\":\"left\"},\"hovermode\":\"closest\",\"mapbox\":{\"style\":\"light\"},\"paper_bgcolor\":\"white\",\"plot_bgcolor\":\"#E5ECF6\",\"polar\":{\"angularaxis\":{\"gridcolor\":\"white\",\"linecolor\":\"white\",\"ticks\":\"\"},\"bgcolor\":\"#E5ECF6\",\"radialaxis\":{\"gridcolor\":\"white\",\"linecolor\":\"white\",\"ticks\":\"\"}},\"scene\":{\"xaxis\":{\"backgroundcolor\":\"#E5ECF6\",\"gridcolor\":\"white\",\"gridwidth\":2,\"linecolor\":\"white\",\"showbackground\":true,\"ticks\":\"\",\"zerolinecolor\":\"white\"},\"yaxis\":{\"backgroundcolor\":\"#E5ECF6\",\"gridcolor\":\"white\",\"gridwidth\":2,\"linecolor\":\"white\",\"showbackground\":true,\"ticks\":\"\",\"zerolinecolor\":\"white\"},\"zaxis\":{\"backgroundcolor\":\"#E5ECF6\",\"gridcolor\":\"white\",\"gridwidth\":2,\"linecolor\":\"white\",\"showbackground\":true,\"ticks\":\"\",\"zerolinecolor\":\"white\"}},\"shapedefaults\":{\"line\":{\"color\":\"#2a3f5f\"}},\"ternary\":{\"aaxis\":{\"gridcolor\":\"white\",\"linecolor\":\"white\",\"ticks\":\"\"},\"baxis\":{\"gridcolor\":\"white\",\"linecolor\":\"white\",\"ticks\":\"\"},\"bgcolor\":\"#E5ECF6\",\"caxis\":{\"gridcolor\":\"white\",\"linecolor\":\"white\",\"ticks\":\"\"}},\"title\":{\"x\":0.05},\"xaxis\":{\"automargin\":true,\"gridcolor\":\"white\",\"linecolor\":\"white\",\"ticks\":\"\",\"title\":{\"standoff\":15},\"zerolinecolor\":\"white\",\"zerolinewidth\":2},\"yaxis\":{\"automargin\":true,\"gridcolor\":\"white\",\"linecolor\":\"white\",\"ticks\":\"\",\"title\":{\"standoff\":15},\"zerolinecolor\":\"white\",\"zerolinewidth\":2}}},\"xaxis\":{\"anchor\":\"y\",\"domain\":[0.0,1.0],\"title\":{\"text\":\"Time-Stamp\"}},\"yaxis\":{\"anchor\":\"x\",\"domain\":[0.0,1.0],\"title\":{\"text\":\"Response-Time (Sec)\"}},\"legend\":{\"title\":{\"text\":\"variable\"},\"tracegroupgap\":0},\"margin\":{\"t\":60}},                        {\"responsive\": true}                    ).then(function(){\n",
       "                            \n",
       "var gd = document.getElementById('a21ca43d-e390-4e86-8f26-b04c73bc10ab');\n",
       "var x = new MutationObserver(function (mutations, observer) {{\n",
       "        var display = window.getComputedStyle(gd).display;\n",
       "        if (!display || display === 'none') {{\n",
       "            console.log([gd, 'removed!']);\n",
       "            Plotly.purge(gd);\n",
       "            observer.disconnect();\n",
       "        }}\n",
       "}});\n",
       "\n",
       "// Listen for the removal of the full notebook cells\n",
       "var notebookContainer = gd.closest('#notebook-container');\n",
       "if (notebookContainer) {{\n",
       "    x.observe(notebookContainer, {childList: true});\n",
       "}}\n",
       "\n",
       "// Listen for the clearing of the current output cell\n",
       "var outputEl = gd.closest('.output');\n",
       "if (outputEl) {{\n",
       "    x.observe(outputEl, {childList: true});\n",
       "}}\n",
       "\n",
       "                        })                };                });            </script>        </div>"
      ]
     },
     "metadata": {},
     "output_type": "display_data"
    }
   ],
   "source": [
    "fig = px.line(data_hu, labels={\"value\":\"Response-Time (Sec)\"})\n",
    "fig.show()"
   ]
  },
  {
   "cell_type": "code",
   "execution_count": 15,
   "id": "6a5226cc",
   "metadata": {},
   "outputs": [
    {
     "data": {
      "text/html": [
       "<div>\n",
       "<style scoped>\n",
       "    .dataframe tbody tr th:only-of-type {\n",
       "        vertical-align: middle;\n",
       "    }\n",
       "\n",
       "    .dataframe tbody tr th {\n",
       "        vertical-align: top;\n",
       "    }\n",
       "\n",
       "    .dataframe thead th {\n",
       "        text-align: right;\n",
       "    }\n",
       "</style>\n",
       "<table border=\"1\" class=\"dataframe\">\n",
       "  <thead>\n",
       "    <tr style=\"text-align: right;\">\n",
       "      <th></th>\n",
       "      <th>Domain</th>\n",
       "      <th>IP</th>\n",
       "      <th>Time</th>\n",
       "      <th>Host</th>\n",
       "      <th>Request</th>\n",
       "      <th>Status</th>\n",
       "      <th>Referer</th>\n",
       "      <th>User-Agent</th>\n",
       "      <th>X-IP</th>\n",
       "    </tr>\n",
       "  </thead>\n",
       "  <tbody>\n",
       "    <tr>\n",
       "      <th>12</th>\n",
       "      <td>www.tradeindia.com</td>\n",
       "      <td>162.158.227.152</td>\n",
       "      <td>11/Jan/2022:00:04:05</td>\n",
       "      <td>Host:\"www.tradeindia.com\"</td>\n",
       "      <td>\"GET /products/n95-face-mask-c6072663.html HTT...</td>\n",
       "      <td>Status:404</td>\n",
       "      <td>\"-\"</td>\n",
       "      <td>\"Mozilla/5.0 (Windows NT 10.0; Win64; x64) App...</td>\n",
       "      <td>X-Custom-TheRequest-Header:-</td>\n",
       "    </tr>\n",
       "    <tr>\n",
       "      <th>17</th>\n",
       "      <td>www.tradeindia.com</td>\n",
       "      <td>162.158.48.66</td>\n",
       "      <td>11/Jan/2022:00:05:57</td>\n",
       "      <td>Host:\"www.tradeindia.com\"</td>\n",
       "      <td>\"GET /products/new-castle-disease-vaccine-c517...</td>\n",
       "      <td>Status:404</td>\n",
       "      <td>\"https://r.search.yahoo.com/_ylt=AwrJ7JtvfNxh1...</td>\n",
       "      <td>\"Mozilla/5.0 (Linux; Android 8.1.0; itel P32) ...</td>\n",
       "      <td>X-Custom-TheRequest-Header:-</td>\n",
       "    </tr>\n",
       "    <tr>\n",
       "      <th>55</th>\n",
       "      <td>www.tradeindia.com</td>\n",
       "      <td>162.158.48.128</td>\n",
       "      <td>11/Jan/2022:00:16:45</td>\n",
       "      <td>Host:\"www.tradeindia.com\"</td>\n",
       "      <td>\"GET /products/anesthesia-trolley-with-ventila...</td>\n",
       "      <td>Status:404</td>\n",
       "      <td>\"-\"</td>\n",
       "      <td>\"Mozilla/5.0 (compatible; Baiduspider/2.0; +ht...</td>\n",
       "      <td>X-Custom-TheRequest-Header:-</td>\n",
       "    </tr>\n",
       "    <tr>\n",
       "      <th>77</th>\n",
       "      <td>www.tradeindia.com</td>\n",
       "      <td>162.158.48.74</td>\n",
       "      <td>11/Jan/2022:00:21:34</td>\n",
       "      <td>Host:\"www.tradeindia.com\"</td>\n",
       "      <td>\"GET /products/single-sheave-pulley-block-c676...</td>\n",
       "      <td>Status:404</td>\n",
       "      <td>\"https://www.google.com/\"</td>\n",
       "      <td>\"Mozilla/5.0 (Windows NT 10.0; WOW64) AppleWeb...</td>\n",
       "      <td>X-Custom-TheRequest-Header:-</td>\n",
       "    </tr>\n",
       "    <tr>\n",
       "      <th>94</th>\n",
       "      <td>www.tradeindia.com</td>\n",
       "      <td>162.158.48.100</td>\n",
       "      <td>11/Jan/2022:00:24:01</td>\n",
       "      <td>Host:\"www.tradeindia.com\"</td>\n",
       "      <td>\"GET /products/three-way-stopcock-c7024858.htm...</td>\n",
       "      <td>Status:404</td>\n",
       "      <td>\"-\"</td>\n",
       "      <td>\"Mozilla/5.0 (compatible; Baiduspider/2.0; +ht...</td>\n",
       "      <td>X-Custom-TheRequest-Header:-</td>\n",
       "    </tr>\n",
       "    <tr>\n",
       "      <th>...</th>\n",
       "      <td>...</td>\n",
       "      <td>...</td>\n",
       "      <td>...</td>\n",
       "      <td>...</td>\n",
       "      <td>...</td>\n",
       "      <td>...</td>\n",
       "      <td>...</td>\n",
       "      <td>...</td>\n",
       "      <td>...</td>\n",
       "    </tr>\n",
       "    <tr>\n",
       "      <th>5089</th>\n",
       "      <td>www.tradeindia.com</td>\n",
       "      <td>162.158.48.114</td>\n",
       "      <td>11/Jan/2022:23:47:48</td>\n",
       "      <td>Host:\"www.tradeindia.com\"</td>\n",
       "      <td>\"GET /products/floor-spring-7400-c7275938.html...</td>\n",
       "      <td>Status:404</td>\n",
       "      <td>\"http://www.baidu.com\"</td>\n",
       "      <td>\"Mozilla/4.0 (compatible; MSIE 9.0; Windows NT...</td>\n",
       "      <td>X-Custom-TheRequest-Header:-</td>\n",
       "    </tr>\n",
       "    <tr>\n",
       "      <th>5094</th>\n",
       "      <td>www.tradeindia.com</td>\n",
       "      <td>162.158.48.66</td>\n",
       "      <td>11/Jan/2022:23:49:21</td>\n",
       "      <td>Host:\"www.tradeindia.com\"</td>\n",
       "      <td>\"GET /products/jute-shopping-bag-c7217480.html...</td>\n",
       "      <td>Status:404</td>\n",
       "      <td>\"http://www.baidu.com\"</td>\n",
       "      <td>\"Mozilla/4.0 (compatible; MSIE 9.0; Windows NT...</td>\n",
       "      <td>X-Custom-TheRequest-Header:-</td>\n",
       "    </tr>\n",
       "    <tr>\n",
       "      <th>5109</th>\n",
       "      <td>www.tradeindia.com</td>\n",
       "      <td>162.158.48.64</td>\n",
       "      <td>11/Jan/2022:23:53:02</td>\n",
       "      <td>Host:\"www.tradeindia.com\"</td>\n",
       "      <td>\"GET /products/solar-cctv-camera-c5230802.html...</td>\n",
       "      <td>Status:404</td>\n",
       "      <td>\"http://www.baidu.com\"</td>\n",
       "      <td>\"Mozilla/4.0 (compatible; MSIE 9.0; Windows NT...</td>\n",
       "      <td>X-Custom-TheRequest-Header:-</td>\n",
       "    </tr>\n",
       "    <tr>\n",
       "      <th>5115</th>\n",
       "      <td>tradeindia.com</td>\n",
       "      <td>23.100.232.233</td>\n",
       "      <td>11/Jan/2022:23:54:33</td>\n",
       "      <td>Host:\"tradeindia.com\"</td>\n",
       "      <td>\"GET /products/xaca941-pendant-push-button-whi...</td>\n",
       "      <td>Status:404</td>\n",
       "      <td>\"-\"</td>\n",
       "      <td>\"Mozilla/5.0 (compatible; MSIE 9.0; Windows NT...</td>\n",
       "      <td>X-Custom-TheRequest-Header:-</td>\n",
       "    </tr>\n",
       "    <tr>\n",
       "      <th>5119</th>\n",
       "      <td>www.tradeindia.com</td>\n",
       "      <td>162.158.48.110</td>\n",
       "      <td>11/Jan/2022:23:55:29</td>\n",
       "      <td>Host:\"www.tradeindia.com\"</td>\n",
       "      <td>\"GET /products/plastic-closures-for-tin-cans-w...</td>\n",
       "      <td>Status:404</td>\n",
       "      <td>\"https://www.google.com/\"</td>\n",
       "      <td>\"Mozilla/5.0 (Linux; Android 10; Redmi 8) Appl...</td>\n",
       "      <td>X-Custom-TheRequest-Header:-</td>\n",
       "    </tr>\n",
       "  </tbody>\n",
       "</table>\n",
       "<p>301 rows × 9 columns</p>\n",
       "</div>"
      ],
      "text/plain": [
       "                  Domain               IP                  Time  \\\n",
       "12    www.tradeindia.com  162.158.227.152  11/Jan/2022:00:04:05   \n",
       "17    www.tradeindia.com    162.158.48.66  11/Jan/2022:00:05:57   \n",
       "55    www.tradeindia.com   162.158.48.128  11/Jan/2022:00:16:45   \n",
       "77    www.tradeindia.com    162.158.48.74  11/Jan/2022:00:21:34   \n",
       "94    www.tradeindia.com   162.158.48.100  11/Jan/2022:00:24:01   \n",
       "...                  ...              ...                   ...   \n",
       "5089  www.tradeindia.com   162.158.48.114  11/Jan/2022:23:47:48   \n",
       "5094  www.tradeindia.com    162.158.48.66  11/Jan/2022:23:49:21   \n",
       "5109  www.tradeindia.com    162.158.48.64  11/Jan/2022:23:53:02   \n",
       "5115      tradeindia.com   23.100.232.233  11/Jan/2022:23:54:33   \n",
       "5119  www.tradeindia.com   162.158.48.110  11/Jan/2022:23:55:29   \n",
       "\n",
       "                           Host  \\\n",
       "12    Host:\"www.tradeindia.com\"   \n",
       "17    Host:\"www.tradeindia.com\"   \n",
       "55    Host:\"www.tradeindia.com\"   \n",
       "77    Host:\"www.tradeindia.com\"   \n",
       "94    Host:\"www.tradeindia.com\"   \n",
       "...                         ...   \n",
       "5089  Host:\"www.tradeindia.com\"   \n",
       "5094  Host:\"www.tradeindia.com\"   \n",
       "5109  Host:\"www.tradeindia.com\"   \n",
       "5115      Host:\"tradeindia.com\"   \n",
       "5119  Host:\"www.tradeindia.com\"   \n",
       "\n",
       "                                                Request      Status  \\\n",
       "12    \"GET /products/n95-face-mask-c6072663.html HTT...  Status:404   \n",
       "17    \"GET /products/new-castle-disease-vaccine-c517...  Status:404   \n",
       "55    \"GET /products/anesthesia-trolley-with-ventila...  Status:404   \n",
       "77    \"GET /products/single-sheave-pulley-block-c676...  Status:404   \n",
       "94    \"GET /products/three-way-stopcock-c7024858.htm...  Status:404   \n",
       "...                                                 ...         ...   \n",
       "5089  \"GET /products/floor-spring-7400-c7275938.html...  Status:404   \n",
       "5094  \"GET /products/jute-shopping-bag-c7217480.html...  Status:404   \n",
       "5109  \"GET /products/solar-cctv-camera-c5230802.html...  Status:404   \n",
       "5115  \"GET /products/xaca941-pendant-push-button-whi...  Status:404   \n",
       "5119  \"GET /products/plastic-closures-for-tin-cans-w...  Status:404   \n",
       "\n",
       "                                                Referer  \\\n",
       "12                                                  \"-\"   \n",
       "17    \"https://r.search.yahoo.com/_ylt=AwrJ7JtvfNxh1...   \n",
       "55                                                  \"-\"   \n",
       "77                            \"https://www.google.com/\"   \n",
       "94                                                  \"-\"   \n",
       "...                                                 ...   \n",
       "5089                             \"http://www.baidu.com\"   \n",
       "5094                             \"http://www.baidu.com\"   \n",
       "5109                             \"http://www.baidu.com\"   \n",
       "5115                                                \"-\"   \n",
       "5119                          \"https://www.google.com/\"   \n",
       "\n",
       "                                             User-Agent  \\\n",
       "12    \"Mozilla/5.0 (Windows NT 10.0; Win64; x64) App...   \n",
       "17    \"Mozilla/5.0 (Linux; Android 8.1.0; itel P32) ...   \n",
       "55    \"Mozilla/5.0 (compatible; Baiduspider/2.0; +ht...   \n",
       "77    \"Mozilla/5.0 (Windows NT 10.0; WOW64) AppleWeb...   \n",
       "94    \"Mozilla/5.0 (compatible; Baiduspider/2.0; +ht...   \n",
       "...                                                 ...   \n",
       "5089  \"Mozilla/4.0 (compatible; MSIE 9.0; Windows NT...   \n",
       "5094  \"Mozilla/4.0 (compatible; MSIE 9.0; Windows NT...   \n",
       "5109  \"Mozilla/4.0 (compatible; MSIE 9.0; Windows NT...   \n",
       "5115  \"Mozilla/5.0 (compatible; MSIE 9.0; Windows NT...   \n",
       "5119  \"Mozilla/5.0 (Linux; Android 10; Redmi 8) Appl...   \n",
       "\n",
       "                              X-IP  \n",
       "12    X-Custom-TheRequest-Header:-  \n",
       "17    X-Custom-TheRequest-Header:-  \n",
       "55    X-Custom-TheRequest-Header:-  \n",
       "77    X-Custom-TheRequest-Header:-  \n",
       "94    X-Custom-TheRequest-Header:-  \n",
       "...                            ...  \n",
       "5089  X-Custom-TheRequest-Header:-  \n",
       "5094  X-Custom-TheRequest-Header:-  \n",
       "5109  X-Custom-TheRequest-Header:-  \n",
       "5115  X-Custom-TheRequest-Header:-  \n",
       "5119  X-Custom-TheRequest-Header:-  \n",
       "\n",
       "[301 rows x 9 columns]"
      ]
     },
     "execution_count": 15,
     "metadata": {},
     "output_type": "execute_result"
    }
   ],
   "source": [
    "df_human = df.loc[df['User-Agent'].str.contains('bot')==False]\n",
    "df_human"
   ]
  },
  {
   "cell_type": "code",
   "execution_count": 18,
   "id": "256bbf26",
   "metadata": {},
   "outputs": [
    {
     "data": {
      "text/html": [
       "<div>\n",
       "<style scoped>\n",
       "    .dataframe tbody tr th:only-of-type {\n",
       "        vertical-align: middle;\n",
       "    }\n",
       "\n",
       "    .dataframe tbody tr th {\n",
       "        vertical-align: top;\n",
       "    }\n",
       "\n",
       "    .dataframe thead th {\n",
       "        text-align: right;\n",
       "    }\n",
       "</style>\n",
       "<table border=\"1\" class=\"dataframe\">\n",
       "  <thead>\n",
       "    <tr style=\"text-align: right;\">\n",
       "      <th></th>\n",
       "      <th>count</th>\n",
       "    </tr>\n",
       "    <tr>\n",
       "      <th>Referer</th>\n",
       "      <th></th>\n",
       "    </tr>\n",
       "  </thead>\n",
       "  <tbody>\n",
       "    <tr>\n",
       "      <th>\"-\"</th>\n",
       "      <td>137</td>\n",
       "    </tr>\n",
       "    <tr>\n",
       "      <th>\"https://www.google.com/\"</th>\n",
       "      <td>76</td>\n",
       "    </tr>\n",
       "    <tr>\n",
       "      <th>\"https://www.tradeindia.com/\"</th>\n",
       "      <td>24</td>\n",
       "    </tr>\n",
       "    <tr>\n",
       "      <th>\"http://www.baidu.com\"</th>\n",
       "      <td>22</td>\n",
       "    </tr>\n",
       "    <tr>\n",
       "      <th>\"https://www.facebook.com/\"</th>\n",
       "      <td>14</td>\n",
       "    </tr>\n",
       "    <tr>\n",
       "      <th>\"https://www.youtube.com/\"</th>\n",
       "      <td>11</td>\n",
       "    </tr>\n",
       "    <tr>\n",
       "      <th>\"https://tradeindia.com/\"</th>\n",
       "      <td>2</td>\n",
       "    </tr>\n",
       "    <tr>\n",
       "      <th>\"https://www.bing.com/\"</th>\n",
       "      <td>2</td>\n",
       "    </tr>\n",
       "    <tr>\n",
       "      <th>\"https://www.google.co.in/\"</th>\n",
       "      <td>2</td>\n",
       "    </tr>\n",
       "    <tr>\n",
       "      <th>\"http://www.bing.com/search?&amp;q=Poly%20V%20Pulleys&amp;scope=web&amp;setmkt=en-US&amp;setlang=match&amp;first=241\"</th>\n",
       "      <td>2</td>\n",
       "    </tr>\n",
       "    <tr>\n",
       "      <th>\"https://www.tradeindia.com/aone-medicare-29923286/\"</th>\n",
       "      <td>2</td>\n",
       "    </tr>\n",
       "    <tr>\n",
       "      <th>\"https://m.search.naver.com/search.naver?where=m_image&amp;mode=column&amp;sm=mtb_img&amp;query=%EC%A0%84%EC%84%B8%EA%B3%84%EA%B5%AD%EA%B8%B0&amp;nso=so%3Ar%2Ca%3Aall%2Cp%3Aall\"</th>\n",
       "      <td>1</td>\n",
       "    </tr>\n",
       "    <tr>\n",
       "      <th>\"https://r.search.yahoo.com/_ylt=AwrJ7JtvfNxh14AAUztx.9w4;_ylu=Y29sbwNiZjEEcG9zAzYEdnRpZANDb2NvMzAwXzEEc2VjA3Ny/RV=2/RE=1641868527/RO=10/RU=https%3a%2f%2fwww.tradeindia.com%2fproducts%2fnew-castle-disease-vaccine-c5179048.html/RK=2/RS=bxITapIKaWwANxgkfjvuL48uLG0-\"</th>\n",
       "      <td>1</td>\n",
       "    </tr>\n",
       "    <tr>\n",
       "      <th>\"https://duckduckgo.com/\"</th>\n",
       "      <td>1</td>\n",
       "    </tr>\n",
       "    <tr>\n",
       "      <th>\"https://www.google.co.in/url?esrc=s&amp;q=&amp;rct=j&amp;sa=U&amp;url=https://www.tradeindia.com/products/softgel-filling-machine-c6325941.html&amp;ved=2ahUKEwj9pefztan1AhUgyDgGHft6Cvo4FBCqhQF6BAgCEAE&amp;usg=AOvVaw0mj1DFxf4q7WUd5_y6Wi5k\"</th>\n",
       "      <td>1</td>\n",
       "    </tr>\n",
       "    <tr>\n",
       "      <th>\"https://www.petalsearch.com/\"</th>\n",
       "      <td>1</td>\n",
       "    </tr>\n",
       "    <tr>\n",
       "      <th>\"https://www.tradeindia.com\"</th>\n",
       "      <td>1</td>\n",
       "    </tr>\n",
       "    <tr>\n",
       "      <th>\"http://www.bing.com/search?&amp;q=%E2%80%A2%20Operating%20Temperature:%2060%20Deg%20C%20mail&amp;scope=web&amp;setmkt=en-CA&amp;setlang=match&amp;first=461\"</th>\n",
       "      <td>1</td>\n",
       "    </tr>\n",
       "  </tbody>\n",
       "</table>\n",
       "</div>"
      ],
      "text/plain": [
       "                                                    count\n",
       "Referer                                                  \n",
       "\"-\"                                                   137\n",
       "\"https://www.google.com/\"                              76\n",
       "\"https://www.tradeindia.com/\"                          24\n",
       "\"http://www.baidu.com\"                                 22\n",
       "\"https://www.facebook.com/\"                            14\n",
       "\"https://www.youtube.com/\"                             11\n",
       "\"https://tradeindia.com/\"                               2\n",
       "\"https://www.bing.com/\"                                 2\n",
       "\"https://www.google.co.in/\"                             2\n",
       "\"http://www.bing.com/search?&q=Poly%20V%20Pulle...      2\n",
       "\"https://www.tradeindia.com/aone-medicare-29923...      2\n",
       "\"https://m.search.naver.com/search.naver?where=...      1\n",
       "\"https://r.search.yahoo.com/_ylt=AwrJ7JtvfNxh14...      1\n",
       "\"https://duckduckgo.com/\"                               1\n",
       "\"https://www.google.co.in/url?esrc=s&q=&rct=j&s...      1\n",
       "\"https://www.petalsearch.com/\"                          1\n",
       "\"https://www.tradeindia.com\"                            1\n",
       "\"http://www.bing.com/search?&q=%E2%80%A2%20Oper...      1"
      ]
     },
     "execution_count": 18,
     "metadata": {},
     "output_type": "execute_result"
    }
   ],
   "source": [
    "df_human.groupby(['Referer'])['Referer'].agg(count='count').sort_values('count',ascending=False)\n",
    "# .to_csv('referer_wo_bot_count.csv')"
   ]
  },
  {
   "cell_type": "code",
   "execution_count": 20,
   "id": "0bc371ac",
   "metadata": {},
   "outputs": [],
   "source": [
    "df_human[['Request','Referer']].groupby(['Referer','Request']).count()\n",
    "# .to_csv('urls_groupby_referer_wo_bot.csv')"
   ]
  },
  {
   "cell_type": "code",
   "execution_count": null,
   "id": "70ed0f77",
   "metadata": {},
   "outputs": [],
   "source": []
  }
 ],
 "metadata": {
  "kernelspec": {
   "display_name": "Python 3 (ipykernel)",
   "language": "python",
   "name": "python3"
  },
  "language_info": {
   "codemirror_mode": {
    "name": "ipython",
    "version": 3
   },
   "file_extension": ".py",
   "mimetype": "text/x-python",
   "name": "python",
   "nbconvert_exporter": "python",
   "pygments_lexer": "ipython3",
   "version": "3.9.7"
  }
 },
 "nbformat": 4,
 "nbformat_minor": 5
}
